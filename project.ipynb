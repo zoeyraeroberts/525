{
 "cells": [
  {
   "cell_type": "code",
   "execution_count": 4,
   "id": "b45fea46",
   "metadata": {},
   "outputs": [],
   "source": [
    "# import packages\n",
    "import numpy as np\n",
    "import pandas as pd\n",
    "import wooldridge as woo\n",
    "import statsmodels.formula.api as smf \n",
    "import statsmodels.api as sm\n",
    "import patsy as pt\n",
    "import scipy.stats as stats\n",
    "import matplotlib.pyplot as plt\n",
    "import linearmodels as plm\n",
    "from statsmodels.stats.diagnostic import het_breuschpagan\n",
    "from statsmodels.stats.diagnostic import het_white\n",
    "from statsmodels.stats.outliers_influence import variance_inflation_factor\n",
    "import linearmodels.iv as iv\n",
    "import statsmodels.base.model as smclass\n",
    "from prettytable import PrettyTable"
   ]
  },
  {
   "cell_type": "code",
   "execution_count": 5,
   "id": "acbe18d9",
   "metadata": {},
   "outputs": [
    {
     "name": "stdout",
     "output_type": "stream",
     "text": [
      "                country  code  year   electric  exchangerate       fdi  \\\n",
      "country  year                                                            \n",
      "kenya    2006     kenya     1  2006  26.553055  7.210084e+01  7.625776   \n",
      "         2007     kenya     1  2007  28.426634  6.731667e+01  7.570348   \n",
      "         2008     kenya     1  2008  30.303398  6.917583e+01  8.718309   \n",
      "         2009     kenya     1  2009  23.000000  7.735083e+01  9.274714   \n",
      "         2010     kenya     1  2010  19.200000  7.923333e+01  2.515270   \n",
      "...                 ...   ...   ...        ...           ...       ...   \n",
      "zimbabwe 2014  zimbabwe     5  2014  32.300000  1.222375e+08  2.425173   \n",
      "         2015  zimbabwe     5  2015  33.700000  1.222375e+08  1.999687   \n",
      "         2016  zimbabwe     5  2016  39.676228  1.222375e+08  1.669274   \n",
      "         2017  zimbabwe     5  2017  40.144283  1.222375e+08  1.746885   \n",
      "         2018  zimbabwe     5  2018  40.616360  1.222375e+08  3.962704   \n",
      "\n",
      "               gdpcapita    hdi  immunization  rhinos   rural  stability  \\\n",
      "country  year                                                              \n",
      "kenya    2006   4059.101  0.515            77     3.0  77.955  -1.125182   \n",
      "         2007   4405.410  0.523            80     1.0  77.580  -1.302541   \n",
      "         2008   4212.367  0.532            90     6.0  77.200  -1.391941   \n",
      "         2009   4295.387  0.541            88    21.0  76.817  -1.425457   \n",
      "         2010   5394.997  0.551            86    22.0  76.429  -1.165524   \n",
      "...                  ...    ...           ...     ...     ...        ...   \n",
      "zimbabwe 2014   1434.896  0.547            92    20.0  67.496  -0.713570   \n",
      "         2015   1445.070  0.553            86    50.0  67.615  -0.618156   \n",
      "         2016   1464.589  0.558            95    35.0  67.704  -0.619938   \n",
      "         2017   1235.189  0.563            90    36.0  67.763  -0.708769   \n",
      "         2018   1254.642  0.569            88    34.0  67.791  -0.722774   \n",
      "\n",
      "                   trade     tourism  \n",
      "country  year                         \n",
      "kenya    2006  55.236485  1181000000  \n",
      "         2007  53.894789  1514000000  \n",
      "         2008  57.578599  1398000000  \n",
      "         2009  45.945192  1124000000  \n",
      "         2010  50.394287  1620000000  \n",
      "...                  ...         ...  \n",
      "zimbabwe 2014  54.671615   186000000  \n",
      "         2015  56.748811   191000000  \n",
      "         2016  51.219025   194000000  \n",
      "         2017  50.029712   158000000  \n",
      "         2018  69.447021   191000000  \n",
      "\n",
      "[65 rows x 14 columns]\n"
     ]
    }
   ],
   "source": [
    "df = pd.read_csv('/Users/zoeyroberts/Documents/Spring 2022/Econs 525/Rhino Tourism Dataset.csv', \\\n",
    "                usecols = ['country', 'code', 'year', 'electric', 'exchangerate', 'fdi', \\\n",
    "                           'gdpcapita', 'immunization', 'rhinos', 'rural', 'stability', \\\n",
    "                           'tourism', 'trade', 'hdi'])\n",
    "df = df.set_index(['country', 'year'], drop=False)\n",
    "print(df)"
   ]
  },
  {
   "cell_type": "code",
   "execution_count": 6,
   "id": "f933e41f",
   "metadata": {},
   "outputs": [
    {
     "name": "stdout",
     "output_type": "stream",
     "text": [
      "       variable         VIF\n",
      "0      electric   76.987028\n",
      "1  exchangerate    1.391113\n",
      "2           fdi    2.847935\n",
      "3     gdpcapita    6.959405\n",
      "4           hdi  420.189658\n",
      "5  immunization  257.998123\n",
      "6        rhinos    3.246478\n",
      "7         rural  116.914979\n",
      "8     stability    2.908917\n",
      "9         trade   18.131484\n"
     ]
    }
   ],
   "source": [
    "X = df[['electric', 'exchangerate', 'fdi', 'gdpcapita', 'hdi', 'immunization', 'rhinos', \\\n",
    "        'rural', 'stability', 'trade']]\n",
    "vif = pd.DataFrame()\n",
    "vif[\"variable\"] = X.columns\n",
    "\n",
    "vif[\"VIF\"] = [variance_inflation_factor(X.values, i) for i in range(len(X.columns))]\n",
    "print(vif)"
   ]
  },
  {
   "cell_type": "code",
   "execution_count": 7,
   "id": "ed321049",
   "metadata": {},
   "outputs": [
    {
     "name": "stdout",
     "output_type": "stream",
     "text": [
      "       variable        VIF\n",
      "0      electric   9.949912\n",
      "1  exchangerate   1.319286\n",
      "2           fdi   2.639204\n",
      "3     gdpcapita   3.391395\n",
      "4   development  24.966208\n",
      "5        rhinos   2.658765\n",
      "6     stability   2.609849\n",
      "7         trade  18.123526\n"
     ]
    }
   ],
   "source": [
    "df['development'] = df['immunization'] + df['hdi'] + df['rural']\n",
    "X = df[['electric', 'exchangerate', 'fdi', 'gdpcapita', 'development', 'rhinos', 'stability', 'trade']]\n",
    "vif = pd.DataFrame()\n",
    "vif[\"variable\"] = X.columns\n",
    "\n",
    "vif[\"VIF\"] = [variance_inflation_factor(X.values, i) for i in range(len(X.columns))]\n",
    "print(vif)"
   ]
  },
  {
   "cell_type": "code",
   "execution_count": 8,
   "id": "fb7674d5",
   "metadata": {},
   "outputs": [
    {
     "name": "stdout",
     "output_type": "stream",
     "text": [
      "       variable       VIF\n",
      "0      electric  8.320542\n",
      "1  exchangerate  1.262547\n",
      "2           fdi  2.566387\n",
      "3     gdpcapita  3.043809\n",
      "4        rhinos  2.584873\n",
      "5     stability  1.298394\n",
      "6         trade  9.353910\n"
     ]
    }
   ],
   "source": [
    "X = df[['electric', 'exchangerate', 'fdi', 'gdpcapita', 'rhinos', 'stability', 'trade']]\n",
    "vif = pd.DataFrame()\n",
    "vif[\"variable\"] = X.columns\n",
    "\n",
    "vif[\"VIF\"] = [variance_inflation_factor(X.values, i)\n",
    "                          for i in range(len(X.columns))]\n",
    "print(vif)"
   ]
  },
  {
   "cell_type": "code",
   "execution_count": 9,
   "id": "d21a6754",
   "metadata": {},
   "outputs": [
    {
     "name": "stdout",
     "output_type": "stream",
     "text": [
      "table_endogeneity: \n",
      "                      b            se        t    pval\n",
      "Intercept -4.281249e+09  5.513954e+08  -7.7644  0.0000\n",
      "electric   1.483552e+08  1.104731e+07  13.4291  0.0000\n",
      "resid      9.544178e+06  3.236727e+07   0.2949  0.7691\n",
      "\n"
     ]
    }
   ],
   "source": [
    "endogeneity1 = smf.ols(formula='electric ~ hdi + rural', data=df)\n",
    "endogeneity_results1 = endogeneity1.fit()\n",
    "df['resid'] = endogeneity_results1.resid\n",
    "endogeneity2 = smf.ols(formula='tourism ~ electric + resid', data=df)\n",
    "endogeneity_results2 = endogeneity2.fit()\n",
    "table_endogeneity = pd.DataFrame({'b': round(endogeneity_results2.params, 4),\n",
    "                             'se': round(endogeneity_results2.bse, 4),\n",
    "                             't': round(endogeneity_results2.tvalues, 4),\n",
    "                             'pval': round(endogeneity_results2.pvalues, 4)})\n",
    "print(f'table_endogeneity: \\n{table_endogeneity}\\n')"
   ]
  },
  {
   "cell_type": "code",
   "execution_count": 10,
   "id": "9e634203",
   "metadata": {
    "scrolled": true
   },
   "outputs": [
    {
     "data": {
      "text/html": [
       "<div>\n",
       "<style scoped>\n",
       "    .dataframe tbody tr th:only-of-type {\n",
       "        vertical-align: middle;\n",
       "    }\n",
       "\n",
       "    .dataframe tbody tr th {\n",
       "        vertical-align: top;\n",
       "    }\n",
       "\n",
       "    .dataframe thead th {\n",
       "        text-align: right;\n",
       "    }\n",
       "</style>\n",
       "<table border=\"1\" class=\"dataframe\">\n",
       "  <thead>\n",
       "    <tr style=\"text-align: right;\">\n",
       "      <th></th>\n",
       "      <th>electric</th>\n",
       "      <th>exchangerate</th>\n",
       "      <th>fdi</th>\n",
       "      <th>gdpcapita</th>\n",
       "      <th>hdi</th>\n",
       "      <th>immunization</th>\n",
       "      <th>rhinos</th>\n",
       "      <th>rural</th>\n",
       "      <th>stability</th>\n",
       "      <th>tourism</th>\n",
       "      <th>trade</th>\n",
       "    </tr>\n",
       "  </thead>\n",
       "  <tbody>\n",
       "    <tr>\n",
       "      <th>count</th>\n",
       "      <td>65.000000</td>\n",
       "      <td>6.500000e+01</td>\n",
       "      <td>65.000000</td>\n",
       "      <td>65.000000</td>\n",
       "      <td>65.000000</td>\n",
       "      <td>65.000000</td>\n",
       "      <td>6.500000e+01</td>\n",
       "      <td>65.000000</td>\n",
       "      <td>65.000000</td>\n",
       "      <td>6.500000e+01</td>\n",
       "      <td>65.000000</td>\n",
       "    </tr>\n",
       "    <tr>\n",
       "      <th>mean</th>\n",
       "      <td>45.442934</td>\n",
       "      <td>1.222375e+08</td>\n",
       "      <td>5.698018</td>\n",
       "      <td>2976.102032</td>\n",
       "      <td>0.551308</td>\n",
       "      <td>81.938462</td>\n",
       "      <td>1.418308e+02</td>\n",
       "      <td>60.546508</td>\n",
       "      <td>-0.283868</td>\n",
       "      <td>2.460446e+09</td>\n",
       "      <td>72.506991</td>\n",
       "    </tr>\n",
       "    <tr>\n",
       "      <th>std</th>\n",
       "      <td>22.133513</td>\n",
       "      <td>8.327066e+08</td>\n",
       "      <td>8.533763</td>\n",
       "      <td>2652.941043</td>\n",
       "      <td>0.097141</td>\n",
       "      <td>8.473999</td>\n",
       "      <td>3.104887e+02</td>\n",
       "      <td>13.677965</td>\n",
       "      <td>0.793463</td>\n",
       "      <td>3.771473e+09</td>\n",
       "      <td>24.285265</td>\n",
       "    </tr>\n",
       "    <tr>\n",
       "      <th>min</th>\n",
       "      <td>12.400000</td>\n",
       "      <td>6.767150e+00</td>\n",
       "      <td>0.196220</td>\n",
       "      <td>356.693200</td>\n",
       "      <td>0.366000</td>\n",
       "      <td>63.000000</td>\n",
       "      <td>1.000000e-20</td>\n",
       "      <td>33.645000</td>\n",
       "      <td>-1.425457</td>\n",
       "      <td>1.140000e+08</td>\n",
       "      <td>34.414753</td>\n",
       "    </tr>\n",
       "    <tr>\n",
       "      <th>25%</th>\n",
       "      <td>30.303398</td>\n",
       "      <td>1.084289e+01</td>\n",
       "      <td>1.168557</td>\n",
       "      <td>685.954400</td>\n",
       "      <td>0.458000</td>\n",
       "      <td>76.000000</td>\n",
       "      <td>8.000000e+00</td>\n",
       "      <td>53.100000</td>\n",
       "      <td>-1.104014</td>\n",
       "      <td>2.020000e+08</td>\n",
       "      <td>54.507584</td>\n",
       "    </tr>\n",
       "    <tr>\n",
       "      <th>50%</th>\n",
       "      <td>40.616360</td>\n",
       "      <td>3.010411e+01</td>\n",
       "      <td>2.175057</td>\n",
       "      <td>1445.070000</td>\n",
       "      <td>0.563000</td>\n",
       "      <td>83.000000</td>\n",
       "      <td>2.200000e+01</td>\n",
       "      <td>66.257000</td>\n",
       "      <td>-0.227779</td>\n",
       "      <td>4.850000e+08</td>\n",
       "      <td>63.037148</td>\n",
       "    </tr>\n",
       "    <tr>\n",
       "      <th>75%</th>\n",
       "      <td>53.100000</td>\n",
       "      <td>9.817917e+01</td>\n",
       "      <td>6.452344</td>\n",
       "      <td>5469.901000</td>\n",
       "      <td>0.631000</td>\n",
       "      <td>88.000000</td>\n",
       "      <td>5.200000e+01</td>\n",
       "      <td>68.672000</td>\n",
       "      <td>0.390494</td>\n",
       "      <td>1.784000e+09</td>\n",
       "      <td>93.966188</td>\n",
       "    </tr>\n",
       "    <tr>\n",
       "      <th>max</th>\n",
       "      <td>86.000000</td>\n",
       "      <td>6.723052e+09</td>\n",
       "      <td>39.456200</td>\n",
       "      <td>8810.931000</td>\n",
       "      <td>0.707000</td>\n",
       "      <td>97.000000</td>\n",
       "      <td>1.215000e+03</td>\n",
       "      <td>77.955000</td>\n",
       "      <td>1.200234</td>\n",
       "      <td>1.120200e+10</td>\n",
       "      <td>127.204157</td>\n",
       "    </tr>\n",
       "  </tbody>\n",
       "</table>\n",
       "</div>"
      ],
      "text/plain": [
       "        electric  exchangerate        fdi    gdpcapita        hdi  \\\n",
       "count  65.000000  6.500000e+01  65.000000    65.000000  65.000000   \n",
       "mean   45.442934  1.222375e+08   5.698018  2976.102032   0.551308   \n",
       "std    22.133513  8.327066e+08   8.533763  2652.941043   0.097141   \n",
       "min    12.400000  6.767150e+00   0.196220   356.693200   0.366000   \n",
       "25%    30.303398  1.084289e+01   1.168557   685.954400   0.458000   \n",
       "50%    40.616360  3.010411e+01   2.175057  1445.070000   0.563000   \n",
       "75%    53.100000  9.817917e+01   6.452344  5469.901000   0.631000   \n",
       "max    86.000000  6.723052e+09  39.456200  8810.931000   0.707000   \n",
       "\n",
       "       immunization        rhinos      rural  stability       tourism  \\\n",
       "count     65.000000  6.500000e+01  65.000000  65.000000  6.500000e+01   \n",
       "mean      81.938462  1.418308e+02  60.546508  -0.283868  2.460446e+09   \n",
       "std        8.473999  3.104887e+02  13.677965   0.793463  3.771473e+09   \n",
       "min       63.000000  1.000000e-20  33.645000  -1.425457  1.140000e+08   \n",
       "25%       76.000000  8.000000e+00  53.100000  -1.104014  2.020000e+08   \n",
       "50%       83.000000  2.200000e+01  66.257000  -0.227779  4.850000e+08   \n",
       "75%       88.000000  5.200000e+01  68.672000   0.390494  1.784000e+09   \n",
       "max       97.000000  1.215000e+03  77.955000   1.200234  1.120200e+10   \n",
       "\n",
       "            trade  \n",
       "count   65.000000  \n",
       "mean    72.506991  \n",
       "std     24.285265  \n",
       "min     34.414753  \n",
       "25%     54.507584  \n",
       "50%     63.037148  \n",
       "75%     93.966188  \n",
       "max    127.204157  "
      ]
     },
     "execution_count": 10,
     "metadata": {},
     "output_type": "execute_result"
    }
   ],
   "source": [
    "# summary statistics\n",
    "df[['electric', 'exchangerate', 'fdi', 'gdpcapita', 'hdi', 'immunization',  \\\n",
    "    'rhinos', 'rural', 'stability', 'tourism', 'trade']].describe()"
   ]
  },
  {
   "cell_type": "code",
   "execution_count": 11,
   "id": "0b40aea9",
   "metadata": {},
   "outputs": [
    {
     "name": "stdout",
     "output_type": "stream",
     "text": [
      "<class 'pandas.core.frame.DataFrame'>\n",
      "MultiIndex: 65 entries, ('kenya', 2006) to ('zimbabwe', 2018)\n",
      "Data columns (total 16 columns):\n",
      " #   Column        Non-Null Count  Dtype  \n",
      "---  ------        --------------  -----  \n",
      " 0   country       65 non-null     object \n",
      " 1   code          65 non-null     int64  \n",
      " 2   year          65 non-null     int64  \n",
      " 3   electric      65 non-null     float64\n",
      " 4   exchangerate  65 non-null     float64\n",
      " 5   fdi           65 non-null     float64\n",
      " 6   gdpcapita     65 non-null     float64\n",
      " 7   hdi           65 non-null     float64\n",
      " 8   immunization  65 non-null     int64  \n",
      " 9   rhinos        65 non-null     float64\n",
      " 10  rural         65 non-null     float64\n",
      " 11  stability     65 non-null     float64\n",
      " 12  trade         65 non-null     float64\n",
      " 13  tourism       65 non-null     int64  \n",
      " 14  development   65 non-null     float64\n",
      " 15  resid         65 non-null     float64\n",
      "dtypes: float64(11), int64(4), object(1)\n",
      "memory usage: 9.2+ KB\n",
      "None\n"
     ]
    }
   ],
   "source": [
    "print(df.info())"
   ]
  },
  {
   "cell_type": "code",
   "execution_count": 12,
   "id": "15512745",
   "metadata": {},
   "outputs": [
    {
     "data": {
      "text/html": [
       "<div>\n",
       "<style scoped>\n",
       "    .dataframe tbody tr th:only-of-type {\n",
       "        vertical-align: middle;\n",
       "    }\n",
       "\n",
       "    .dataframe tbody tr th {\n",
       "        vertical-align: top;\n",
       "    }\n",
       "\n",
       "    .dataframe thead th {\n",
       "        text-align: right;\n",
       "    }\n",
       "</style>\n",
       "<table border=\"1\" class=\"dataframe\">\n",
       "  <thead>\n",
       "    <tr style=\"text-align: right;\">\n",
       "      <th></th>\n",
       "      <th>electric</th>\n",
       "      <th>exchangerate</th>\n",
       "      <th>fdi</th>\n",
       "      <th>gdpcapita</th>\n",
       "      <th>hdi</th>\n",
       "      <th>immunization</th>\n",
       "      <th>rhinos</th>\n",
       "      <th>rural</th>\n",
       "      <th>stability</th>\n",
       "      <th>trade</th>\n",
       "      <th>tourism</th>\n",
       "    </tr>\n",
       "  </thead>\n",
       "  <tbody>\n",
       "    <tr>\n",
       "      <th>electric</th>\n",
       "      <td>1.000000</td>\n",
       "      <td>-0.057628</td>\n",
       "      <td>-0.476593</td>\n",
       "      <td>-0.000781</td>\n",
       "      <td>0.858624</td>\n",
       "      <td>-0.274731</td>\n",
       "      <td>0.692360</td>\n",
       "      <td>-0.864125</td>\n",
       "      <td>0.151283</td>\n",
       "      <td>-0.296854</td>\n",
       "      <td>0.877172</td>\n",
       "    </tr>\n",
       "    <tr>\n",
       "      <th>exchangerate</th>\n",
       "      <td>-0.057628</td>\n",
       "      <td>1.000000</td>\n",
       "      <td>-0.076804</td>\n",
       "      <td>-0.139582</td>\n",
       "      <td>-0.173170</td>\n",
       "      <td>-0.156178</td>\n",
       "      <td>0.001315</td>\n",
       "      <td>0.065730</td>\n",
       "      <td>-0.162920</td>\n",
       "      <td>0.185120</td>\n",
       "      <td>-0.086392</td>\n",
       "    </tr>\n",
       "    <tr>\n",
       "      <th>fdi</th>\n",
       "      <td>-0.476593</td>\n",
       "      <td>-0.076804</td>\n",
       "      <td>1.000000</td>\n",
       "      <td>-0.296479</td>\n",
       "      <td>-0.548986</td>\n",
       "      <td>0.258486</td>\n",
       "      <td>-0.209553</td>\n",
       "      <td>0.302364</td>\n",
       "      <td>-0.101761</td>\n",
       "      <td>0.322674</td>\n",
       "      <td>-0.272093</td>\n",
       "    </tr>\n",
       "    <tr>\n",
       "      <th>gdpcapita</th>\n",
       "      <td>-0.000781</td>\n",
       "      <td>-0.139582</td>\n",
       "      <td>-0.296479</td>\n",
       "      <td>1.000000</td>\n",
       "      <td>0.399036</td>\n",
       "      <td>0.004090</td>\n",
       "      <td>-0.230696</td>\n",
       "      <td>0.142691</td>\n",
       "      <td>0.280117</td>\n",
       "      <td>0.150160</td>\n",
       "      <td>-0.256926</td>\n",
       "    </tr>\n",
       "    <tr>\n",
       "      <th>hdi</th>\n",
       "      <td>0.858624</td>\n",
       "      <td>-0.173170</td>\n",
       "      <td>-0.548986</td>\n",
       "      <td>0.399036</td>\n",
       "      <td>1.000000</td>\n",
       "      <td>-0.074137</td>\n",
       "      <td>0.563515</td>\n",
       "      <td>-0.679684</td>\n",
       "      <td>0.172032</td>\n",
       "      <td>-0.311959</td>\n",
       "      <td>0.671167</td>\n",
       "    </tr>\n",
       "    <tr>\n",
       "      <th>immunization</th>\n",
       "      <td>-0.274731</td>\n",
       "      <td>-0.156178</td>\n",
       "      <td>0.258486</td>\n",
       "      <td>0.004090</td>\n",
       "      <td>-0.074137</td>\n",
       "      <td>1.000000</td>\n",
       "      <td>-0.130458</td>\n",
       "      <td>0.473810</td>\n",
       "      <td>-0.533304</td>\n",
       "      <td>-0.262878</td>\n",
       "      <td>-0.309553</td>\n",
       "    </tr>\n",
       "    <tr>\n",
       "      <th>rhinos</th>\n",
       "      <td>0.692360</td>\n",
       "      <td>0.001315</td>\n",
       "      <td>-0.209553</td>\n",
       "      <td>-0.230696</td>\n",
       "      <td>0.563515</td>\n",
       "      <td>-0.130458</td>\n",
       "      <td>1.000000</td>\n",
       "      <td>-0.711049</td>\n",
       "      <td>0.054063</td>\n",
       "      <td>-0.254853</td>\n",
       "      <td>0.757803</td>\n",
       "    </tr>\n",
       "    <tr>\n",
       "      <th>rural</th>\n",
       "      <td>-0.864125</td>\n",
       "      <td>0.065730</td>\n",
       "      <td>0.302364</td>\n",
       "      <td>0.142691</td>\n",
       "      <td>-0.679684</td>\n",
       "      <td>0.473810</td>\n",
       "      <td>-0.711049</td>\n",
       "      <td>1.000000</td>\n",
       "      <td>-0.473680</td>\n",
       "      <td>-0.007354</td>\n",
       "      <td>-0.826223</td>\n",
       "    </tr>\n",
       "    <tr>\n",
       "      <th>stability</th>\n",
       "      <td>0.151283</td>\n",
       "      <td>-0.162920</td>\n",
       "      <td>-0.101761</td>\n",
       "      <td>0.280117</td>\n",
       "      <td>0.172032</td>\n",
       "      <td>-0.533304</td>\n",
       "      <td>0.054063</td>\n",
       "      <td>-0.473680</td>\n",
       "      <td>1.000000</td>\n",
       "      <td>0.477586</td>\n",
       "      <td>0.071294</td>\n",
       "    </tr>\n",
       "    <tr>\n",
       "      <th>trade</th>\n",
       "      <td>-0.296854</td>\n",
       "      <td>0.185120</td>\n",
       "      <td>0.322674</td>\n",
       "      <td>0.150160</td>\n",
       "      <td>-0.311959</td>\n",
       "      <td>-0.262878</td>\n",
       "      <td>-0.254853</td>\n",
       "      <td>-0.007354</td>\n",
       "      <td>0.477586</td>\n",
       "      <td>1.000000</td>\n",
       "      <td>-0.414846</td>\n",
       "    </tr>\n",
       "    <tr>\n",
       "      <th>tourism</th>\n",
       "      <td>0.877172</td>\n",
       "      <td>-0.086392</td>\n",
       "      <td>-0.272093</td>\n",
       "      <td>-0.256926</td>\n",
       "      <td>0.671167</td>\n",
       "      <td>-0.309553</td>\n",
       "      <td>0.757803</td>\n",
       "      <td>-0.826223</td>\n",
       "      <td>0.071294</td>\n",
       "      <td>-0.414846</td>\n",
       "      <td>1.000000</td>\n",
       "    </tr>\n",
       "  </tbody>\n",
       "</table>\n",
       "</div>"
      ],
      "text/plain": [
       "              electric  exchangerate       fdi  gdpcapita       hdi  \\\n",
       "electric      1.000000     -0.057628 -0.476593  -0.000781  0.858624   \n",
       "exchangerate -0.057628      1.000000 -0.076804  -0.139582 -0.173170   \n",
       "fdi          -0.476593     -0.076804  1.000000  -0.296479 -0.548986   \n",
       "gdpcapita    -0.000781     -0.139582 -0.296479   1.000000  0.399036   \n",
       "hdi           0.858624     -0.173170 -0.548986   0.399036  1.000000   \n",
       "immunization -0.274731     -0.156178  0.258486   0.004090 -0.074137   \n",
       "rhinos        0.692360      0.001315 -0.209553  -0.230696  0.563515   \n",
       "rural        -0.864125      0.065730  0.302364   0.142691 -0.679684   \n",
       "stability     0.151283     -0.162920 -0.101761   0.280117  0.172032   \n",
       "trade        -0.296854      0.185120  0.322674   0.150160 -0.311959   \n",
       "tourism       0.877172     -0.086392 -0.272093  -0.256926  0.671167   \n",
       "\n",
       "              immunization    rhinos     rural  stability     trade   tourism  \n",
       "electric         -0.274731  0.692360 -0.864125   0.151283 -0.296854  0.877172  \n",
       "exchangerate     -0.156178  0.001315  0.065730  -0.162920  0.185120 -0.086392  \n",
       "fdi               0.258486 -0.209553  0.302364  -0.101761  0.322674 -0.272093  \n",
       "gdpcapita         0.004090 -0.230696  0.142691   0.280117  0.150160 -0.256926  \n",
       "hdi              -0.074137  0.563515 -0.679684   0.172032 -0.311959  0.671167  \n",
       "immunization      1.000000 -0.130458  0.473810  -0.533304 -0.262878 -0.309553  \n",
       "rhinos           -0.130458  1.000000 -0.711049   0.054063 -0.254853  0.757803  \n",
       "rural             0.473810 -0.711049  1.000000  -0.473680 -0.007354 -0.826223  \n",
       "stability        -0.533304  0.054063 -0.473680   1.000000  0.477586  0.071294  \n",
       "trade            -0.262878 -0.254853 -0.007354   0.477586  1.000000 -0.414846  \n",
       "tourism          -0.309553  0.757803 -0.826223   0.071294 -0.414846  1.000000  "
      ]
     },
     "execution_count": 12,
     "metadata": {},
     "output_type": "execute_result"
    }
   ],
   "source": [
    "df = pd.read_csv('/Users/zoeyroberts/Documents/Spring 2022/Econs 525/Rhino Tourism Dataset.csv', \\\n",
    "                usecols = ['electric', 'exchangerate', 'fdi', 'gdpcapita', 'immunization', \\\n",
    "                           'rhinos', 'rural', 'stability', 'tourism', 'trade', 'hdi'])\n",
    "df.corr()"
   ]
  },
  {
   "cell_type": "code",
   "execution_count": 13,
   "id": "e6790bc4",
   "metadata": {},
   "outputs": [
    {
     "data": {
      "text/plain": [
       "<matplotlib.legend.Legend at 0x7f78ca5ca460>"
      ]
     },
     "execution_count": 13,
     "metadata": {},
     "output_type": "execute_result"
    },
    {
     "data": {
      "image/png": "[encoded data removed]",
      "text/plain": [
       "<Figure size 432x288 with 1 Axes>"
      ]
     },
     "metadata": {
      "needs_background": "light"
     },
     "output_type": "display_data"
    }
   ],
   "source": [
    "df = pd.read_csv('/Users/zoeyroberts/Documents/Spring 2022/Econs 525/Rhino Tourism Dataset.csv', \\\n",
    "                usecols = ['country', 'code', 'year', 'electric', 'exchangerate', 'fdi', \\\n",
    "                           'gdpcapita', 'immunization', 'rhinos', 'rural', 'stability', \\\n",
    "                           'tourism', 'trade', 'hdi'])\n",
    "df = df.set_index(['country', 'year'], drop=False)\n",
    "groups = df.groupby('code')\n",
    "for name, group in groups:\n",
    "    plt.plot(group.rhinos, group.tourism, marker='o', linestyle='', markersize=8, label=name)\n",
    "plt.ylabel('tourism')\n",
    "plt.xlabel('rhinos')\n",
    "plt.legend()"
   ]
  },
  {
   "cell_type": "code",
   "execution_count": 14,
   "id": "b0ddba91",
   "metadata": {
    "scrolled": false
   },
   "outputs": [
    {
     "data": {
      "text/plain": [
       "<matplotlib.legend.Legend at 0x7f78ca5515b0>"
      ]
     },
     "execution_count": 14,
     "metadata": {},
     "output_type": "execute_result"
    },
    {
     "data": {
      "image/png": "[encoded data removed]",
      "text/plain": [
       "<Figure size 432x288 with 1 Axes>"
      ]
     },
     "metadata": {
      "needs_background": "light"
     },
     "output_type": "display_data"
    }
   ],
   "source": [
    "groups = df.groupby('code')\n",
    "for name, group in groups:\n",
    "    plt.plot(group.stability, group.tourism, marker='o', linestyle='', markersize=8, label=name)\n",
    "plt.ylabel('tourism')\n",
    "plt.xlabel('stability')\n",
    "plt.legend()"
   ]
  },
  {
   "cell_type": "code",
   "execution_count": 15,
   "id": "c6255549",
   "metadata": {},
   "outputs": [
    {
     "data": {
      "text/plain": [
       "Text(0.5, 0, 'electric')"
      ]
     },
     "execution_count": 15,
     "metadata": {},
     "output_type": "execute_result"
    },
    {
     "data": {
      "image/png": "[encoded data removed]",
      "text/plain": [
       "<Figure size 432x288 with 1 Axes>"
      ]
     },
     "metadata": {
      "needs_background": "light"
     },
     "output_type": "display_data"
    }
   ],
   "source": [
    "groups = df.groupby('code')\n",
    "for name, group in groups:\n",
    "    plt.plot(group.electric, group.tourism, marker='o', linestyle='', markersize=8, label=name)\n",
    "plt.legend()\n",
    "plt.ylabel('tourism')\n",
    "plt.xlabel('electric')"
   ]
  },
  {
   "cell_type": "code",
   "execution_count": 16,
   "id": "7504b38d",
   "metadata": {},
   "outputs": [
    {
     "data": {
      "text/plain": [
       "Text(0.5, 0, 'trade')"
      ]
     },
     "execution_count": 16,
     "metadata": {},
     "output_type": "execute_result"
    },
    {
     "data": {
      "image/png": "[encoded data removed]",
      "text/plain": [
       "<Figure size 432x288 with 1 Axes>"
      ]
     },
     "metadata": {
      "needs_background": "light"
     },
     "output_type": "display_data"
    }
   ],
   "source": [
    "groups = df.groupby('code')\n",
    "for name, group in groups:\n",
    "    plt.plot(group.trade, group.tourism, marker='o', linestyle='', markersize=8, label=name)\n",
    "plt.legend()\n",
    "plt.ylabel('tourism')\n",
    "plt.xlabel('trade')"
   ]
  },
  {
   "cell_type": "code",
   "execution_count": 17,
   "id": "d0bfc852",
   "metadata": {},
   "outputs": [
    {
     "data": {
      "text/plain": [
       "Text(0.5, 0, 'exchangerate')"
      ]
     },
     "execution_count": 17,
     "metadata": {},
     "output_type": "execute_result"
    },
    {
     "data": {
      "image/png": "[encoded data removed]",
      "text/plain": [
       "<Figure size 432x288 with 1 Axes>"
      ]
     },
     "metadata": {
      "needs_background": "light"
     },
     "output_type": "display_data"
    }
   ],
   "source": [
    "groups = df.groupby('code')\n",
    "for name, group in groups:\n",
    "    plt.plot(group.exchangerate, group.tourism, marker='o', linestyle='', markersize=8, label=name)\n",
    "plt.legend()\n",
    "plt.ylabel('tourism')\n",
    "plt.xlabel('exchangerate')"
   ]
  },
  {
   "cell_type": "code",
   "execution_count": 18,
   "id": "f5718d94",
   "metadata": {},
   "outputs": [
    {
     "data": {
      "text/plain": [
       "Text(0.5, 0, 'fdi')"
      ]
     },
     "execution_count": 18,
     "metadata": {},
     "output_type": "execute_result"
    },
    {
     "data": {
      "image/png": "[encoded data removed]",
      "text/plain": [
       "<Figure size 432x288 with 1 Axes>"
      ]
     },
     "metadata": {
      "needs_background": "light"
     },
     "output_type": "display_data"
    }
   ],
   "source": [
    "groups = df.groupby('code')\n",
    "for name, group in groups:\n",
    "    plt.plot(group.fdi, group.tourism, marker='o', linestyle='', markersize=8, label=name)\n",
    "plt.legend()\n",
    "plt.ylabel('tourism')\n",
    "plt.xlabel('fdi')"
   ]
  },
  {
   "cell_type": "code",
   "execution_count": 19,
   "id": "2eb38870",
   "metadata": {},
   "outputs": [
    {
     "data": {
      "text/plain": [
       "Text(0.5, 0, 'immunization')"
      ]
     },
     "execution_count": 19,
     "metadata": {},
     "output_type": "execute_result"
    },
    {
     "data": {
      "image/png": "[encoded data removed]",
      "text/plain": [
       "<Figure size 432x288 with 1 Axes>"
      ]
     },
     "metadata": {
      "needs_background": "light"
     },
     "output_type": "display_data"
    }
   ],
   "source": [
    "groups = df.groupby('code')\n",
    "for name, group in groups:\n",
    "    plt.plot(group.immunization, group.tourism, marker='o', linestyle='', markersize=8, label=name)\n",
    "plt.legend()\n",
    "plt.ylabel('tourism')\n",
    "plt.xlabel('immunization')"
   ]
  },
  {
   "cell_type": "code",
   "execution_count": 20,
   "id": "5d7e861b",
   "metadata": {},
   "outputs": [
    {
     "data": {
      "text/plain": [
       "Text(0.5, 0, 'gdpcapita')"
      ]
     },
     "execution_count": 20,
     "metadata": {},
     "output_type": "execute_result"
    },
    {
     "data": {
      "image/png": "[encoded data removed]",
      "text/plain": [
       "<Figure size 432x288 with 1 Axes>"
      ]
     },
     "metadata": {
      "needs_background": "light"
     },
     "output_type": "display_data"
    }
   ],
   "source": [
    "groups = df.groupby('code')\n",
    "for name, group in groups:\n",
    "    plt.plot(group.gdpcapita, group.tourism, marker='o', linestyle='', markersize=8, label=name)\n",
    "plt.legend()\n",
    "plt.ylabel('tourism')\n",
    "plt.xlabel('gdpcapita')"
   ]
  },
  {
   "cell_type": "code",
   "execution_count": 21,
   "id": "27f3f9fb",
   "metadata": {},
   "outputs": [
    {
     "data": {
      "text/plain": [
       "Text(0.5, 0, 'hdi')"
      ]
     },
     "execution_count": 21,
     "metadata": {},
     "output_type": "execute_result"
    },
    {
     "data": {
      "image/png": "[encoded data removed]",
      "text/plain": [
       "<Figure size 432x288 with 1 Axes>"
      ]
     },
     "metadata": {
      "needs_background": "light"
     },
     "output_type": "display_data"
    }
   ],
   "source": [
    "groups = df.groupby('code')\n",
    "for name, group in groups:\n",
    "    plt.plot(group.hdi, group.tourism, marker='o', linestyle='', markersize=8, label=name)\n",
    "plt.legend()\n",
    "plt.ylabel('tourism')\n",
    "plt.xlabel('hdi')"
   ]
  },
  {
   "cell_type": "code",
   "execution_count": 22,
   "id": "b48c5d4b",
   "metadata": {},
   "outputs": [
    {
     "data": {
      "text/plain": [
       "Text(0.5, 0, 'rural')"
      ]
     },
     "execution_count": 22,
     "metadata": {},
     "output_type": "execute_result"
    },
    {
     "data": {
      "image/png": "[encoded data removed]",
      "text/plain": [
       "<Figure size 432x288 with 1 Axes>"
      ]
     },
     "metadata": {
      "needs_background": "light"
     },
     "output_type": "display_data"
    }
   ],
   "source": [
    "groups = df.groupby('code')\n",
    "for name, group in groups:\n",
    "    plt.plot(group.rural, group.tourism, marker='o', linestyle='', markersize=8, label=name)\n",
    "plt.legend()\n",
    "plt.ylabel('tourism')\n",
    "plt.xlabel('rural')"
   ]
  },
  {
   "cell_type": "code",
   "execution_count": 23,
   "id": "7b1c1845",
   "metadata": {},
   "outputs": [],
   "source": [
    "df['tourism_ln'] = np.log(df['tourism'])\n",
    "df['exchangerate_ln'] = np.log(df['exchangerate'])"
   ]
  },
  {
   "cell_type": "code",
   "execution_count": 24,
   "id": "48db5a7d",
   "metadata": {
    "scrolled": false
   },
   "outputs": [
    {
     "name": "stdout",
     "output_type": "stream",
     "text": [
      "                          PanelOLS Estimation Summary                           \n",
      "================================================================================\n",
      "Dep. Variable:             tourism_ln   R-squared:                        0.3965\n",
      "Estimator:                   PanelOLS   R-squared (Between):              0.0744\n",
      "No. Observations:                  65   R-squared (Within):               0.3965\n",
      "Date:                Wed, May 04 2022   R-squared (Overall):              0.0744\n",
      "Time:                        11:14:49   Log-likelihood                    24.207\n",
      "Cov. Estimator:             Clustered                                           \n",
      "                                        F-statistic:                      4.9753\n",
      "Entities:                           5   P-value                           0.0002\n",
      "Avg Obs:                       13.000   Distribution:                    F(7,53)\n",
      "Min Obs:                       13.000                                           \n",
      "Max Obs:                       13.000   F-statistic (robust):         -4.993e+17\n",
      "                                        P-value                           1.0000\n",
      "Time periods:                      13   Distribution:                    chi2(7)\n",
      "Avg Obs:                       5.0000                                           \n",
      "Min Obs:                       5.0000                                           \n",
      "Max Obs:                       5.0000                                           \n",
      "                                                                                \n",
      "                                Parameter Estimates                                \n",
      "===================================================================================\n",
      "                 Parameter  Std. Err.     T-stat    P-value    Lower CI    Upper CI\n",
      "-----------------------------------------------------------------------------------\n",
      "electric            0.0069     0.0020     3.4173     0.0006      0.0029      0.0109\n",
      "exchangerate_ln    -0.0454     0.0023    -19.777     0.0000     -0.0500     -0.0409\n",
      "fdi                -0.0062     0.0015    -4.1600     0.0000     -0.0091     -0.0033\n",
      "gdpcapita        6.421e-05  4.831e-05     1.3290     0.1838  -3.048e-05      0.0002\n",
      "rhinos           5.584e-05  5.248e-05     1.0641     0.2873  -4.702e-05      0.0002\n",
      "stability           0.1940     0.1028     1.8876     0.0591     -0.0074      0.3954\n",
      "trade               0.0086     0.0027     3.1279     0.0018      0.0032      0.0140\n",
      "===================================================================================\n",
      "\n",
      "F-test for Poolability: 86.034\n",
      "P-value: 0.0000\n",
      "Distribution: F(4,53)\n",
      "\n",
      "Included effects: Entity\n"
     ]
    }
   ],
   "source": [
    "# fixed effects model\n",
    "mainreg = plm.PanelOLS.from_formula(\n",
    "    formula='tourism_ln ~ electric + exchangerate_ln + fdi + gdpcapita + \\\n",
    "             rhinos + stability + trade + EntityEffects', data=df)\n",
    "maincluster = mainreg.fit(cov_type='clustered', cluster_entity=True, debiased=False)\n",
    "print(maincluster)"
   ]
  },
  {
   "cell_type": "code",
   "execution_count": 32,
   "id": "dfc65d5f",
   "metadata": {},
   "outputs": [
    {
     "data": {
      "image/png": "[encoded data removed]",
      "text/plain": [
       "<Figure size 432x288 with 1 Axes>"
      ]
     },
     "metadata": {
      "needs_background": "light"
     },
     "output_type": "display_data"
    },
    {
     "data": {
      "image/png": "[encoded data removed]",
      "text/plain": [
       "<Figure size 432x288 with 1 Axes>"
      ]
     },
     "metadata": {
      "needs_background": "light"
     },
     "output_type": "display_data"
    }
   ],
   "source": [
    "u_hat = maincluster.resids\n",
    "tourism_hat = maincluster.fitted_values\n",
    "plt.plot(u_hat, tourism_hat, color='tab:red', marker='o', linestyle='')\n",
    "plt.ylabel('tourism_hat')\n",
    "plt.xlabel('u_hat')\n",
    "fig, ax = plt.subplots()\n",
    "ax.scatter(u_hat, tourism_hat, color = 'tab:orange')\n",
    "ax.axhline(0, color = 'tab:orange', ls = '--')\n",
    "ax.set_xlabel('Predicted Values', fontsize = 10)\n",
    "ax.set_ylabel('Residuals', fontsize = 10)\n",
    "plt.show()"
   ]
  },
  {
   "cell_type": "code",
   "execution_count": 26,
   "id": "09345882",
   "metadata": {},
   "outputs": [
    {
     "name": "stdout",
     "output_type": "stream",
     "text": [
      "{'LM-Stat': 2.448236078077526, 'LM p-val': 0.2940168974313446, 'F-Stat': 1.2133201953367188, 'F p-val': 0.30416716954949535}\n"
     ]
    },
    {
     "name": "stderr",
     "output_type": "stream",
     "text": [
      "/Users/zoeyroberts/opt/anaconda3/lib/python3.8/site-packages/statsmodels/tsa/tsatools.py:142: FutureWarning: In a future version of pandas all arguments of concat except for the argument 'objs' will be keyword-only\n",
      "  x = pd.concat(x[::order], 1)\n"
     ]
    }
   ],
   "source": [
    "fe_df = pd.concat([df, u_hat], axis=1)\n",
    "fe_df = fe_df.drop(['year'], axis = 1).fillna(0)\n",
    "exog = sm.tools.tools.add_constant(df['rhinos']).fillna(0)\n",
    "white_test = het_white(fe_df['residual'], exog)\n",
    "labels = ['LM-Stat', 'LM p-val', 'F-Stat', 'F p-val'] \n",
    "print(dict(zip(labels, white_test)))"
   ]
  },
  {
   "cell_type": "code",
   "execution_count": 27,
   "id": "7fc944db",
   "metadata": {},
   "outputs": [
    {
     "name": "stdout",
     "output_type": "stream",
     "text": [
      "{'LM-Stat': 2.105654764290253, 'LM p-val': 0.14675551292635067, 'F-Stat': 2.1091920053087265, 'F p-val': 0.15137904895673263}\n"
     ]
    }
   ],
   "source": [
    "breusch_pagan = het_breuschpagan(fe_df['residual'], exog)\n",
    "labels = ['LM-Stat', 'LM p-val', 'F-Stat', 'F p-val'] \n",
    "print(dict(zip(labels, breusch_pagan)))"
   ]
  },
  {
   "cell_type": "code",
   "execution_count": 28,
   "id": "a174c4df",
   "metadata": {},
   "outputs": [
    {
     "name": "stdout",
     "output_type": "stream",
     "text": [
      "                          PanelOLS Estimation Summary                           \n",
      "================================================================================\n",
      "Dep. Variable:                tourism   R-squared:                        0.0727\n",
      "Estimator:                   PanelOLS   R-squared (Between):              0.2352\n",
      "No. Observations:                  65   R-squared (Within):               0.0727\n",
      "Date:                Wed, May 04 2022   R-squared (Overall):              0.2342\n",
      "Time:                        11:14:54   Log-likelihood                   -1370.7\n",
      "Cov. Estimator:             Clustered                                           \n",
      "                                        F-statistic:                      0.5938\n",
      "Entities:                           5   P-value                           0.7580\n",
      "Avg Obs:                       13.000   Distribution:                    F(7,53)\n",
      "Min Obs:                       13.000                                           \n",
      "Max Obs:                       13.000   F-statistic (robust):         -1.151e+17\n",
      "                                        P-value                           1.0000\n",
      "Time periods:                      13   Distribution:                    chi2(7)\n",
      "Avg Obs:                       5.0000                                           \n",
      "Min Obs:                       5.0000                                           \n",
      "Max Obs:                       5.0000                                           \n",
      "                                                                                \n",
      "                              Parameter Estimates                               \n",
      "================================================================================\n",
      "              Parameter  Std. Err.     T-stat    P-value    Lower CI    Upper CI\n",
      "--------------------------------------------------------------------------------\n",
      "electric      9.642e+06  4.369e+06     2.2069     0.0273   1.079e+06   1.821e+07\n",
      "exchangerate     0.0051     0.0051     0.9913     0.3216     -0.0050      0.0152\n",
      "fdi          -3.569e+05  5.762e+06    -0.0619     0.9506  -1.165e+07   1.094e+07\n",
      "gdpcapita     6.685e+04  8.385e+04     0.7972     0.4253   -9.75e+04   2.312e+05\n",
      "rhinos        2.143e+05  4.681e+04     4.5768     0.0000   1.225e+05    3.06e+05\n",
      "stability     2.451e+08  1.875e+08     1.3073     0.1911  -1.224e+08   6.126e+08\n",
      "trade         4.478e+06  1.834e+06     2.4415     0.0146   8.832e+05   8.073e+06\n",
      "================================================================================\n",
      "\n",
      "F-test for Poolability: 154.98\n",
      "P-value: 0.0000\n",
      "Distribution: F(4,53)\n",
      "\n",
      "Included effects: Entity\n"
     ]
    }
   ],
   "source": [
    "# fixed effects model\n",
    "reg = plm.PanelOLS.from_formula(\n",
    "    formula='tourism ~ electric + exchangerate + fdi + gdpcapita + \\\n",
    "             rhinos + stability + trade + EntityEffects', data=df)\n",
    "cluster = reg.fit(cov_type='clustered', cluster_entity=True, debiased=False)\n",
    "print(cluster)"
   ]
  },
  {
   "cell_type": "code",
   "execution_count": 31,
   "id": "91944d3c",
   "metadata": {},
   "outputs": [
    {
     "data": {
      "image/png": "[encoded data removed]",
      "text/plain": [
       "<Figure size 432x288 with 1 Axes>"
      ]
     },
     "metadata": {
      "needs_background": "light"
     },
     "output_type": "display_data"
    },
    {
     "data": {
      "image/png": "[encoded data removed]",
      "text/plain": [
       "<Figure size 432x288 with 1 Axes>"
      ]
     },
     "metadata": {
      "needs_background": "light"
     },
     "output_type": "display_data"
    }
   ],
   "source": [
    "u_hat = cluster.resids\n",
    "tourism_hat = cluster.fitted_values\n",
    "plt.plot(u_hat, tourism_hat, color='tab:blue', marker='o', linestyle='')\n",
    "plt.ylabel('tourism_hat')\n",
    "plt.xlabel('u_hat')\n",
    "fig, ax = plt.subplots()\n",
    "ax.scatter(u_hat, tourism_hat, color = 'tab:green')\n",
    "ax.axhline(0, color = 'tab:green', ls = '--')\n",
    "ax.set_xlabel('Predicted Values', fontsize = 10)\n",
    "ax.set_ylabel('Residuals', fontsize = 10)\n",
    "plt.show()"
   ]
  },
  {
   "cell_type": "code",
   "execution_count": 31,
   "id": "9de7cbdf",
   "metadata": {},
   "outputs": [
    {
     "name": "stdout",
     "output_type": "stream",
     "text": [
      "{'LM-Stat': 28.37404329385388, 'LM p-val': 6.896913578250057e-07, 'F-Stat': 24.01562774637003, 'F p-val': 1.8929722745556632e-08}\n"
     ]
    },
    {
     "name": "stderr",
     "output_type": "stream",
     "text": [
      "/Users/zoeyroberts/opt/anaconda3/lib/python3.8/site-packages/statsmodels/tsa/tsatools.py:142: FutureWarning: In a future version of pandas all arguments of concat except for the argument 'objs' will be keyword-only\n",
      "  x = pd.concat(x[::order], 1)\n"
     ]
    }
   ],
   "source": [
    "fe_df = pd.concat([df, u_hat], axis=1)\n",
    "fe_df = fe_df.drop(['year'], axis = 1).fillna(0)\n",
    "exog = sm.tools.tools.add_constant(df['rhinos']).fillna(0)\n",
    "white_test = het_white(fe_df['residual'], exog)\n",
    "labels = ['LM-Stat', 'LM p-val', 'F-Stat', 'F p-val'] \n",
    "print(dict(zip(labels, white_test)))"
   ]
  },
  {
   "cell_type": "code",
   "execution_count": 32,
   "id": "74519604",
   "metadata": {},
   "outputs": [
    {
     "name": "stdout",
     "output_type": "stream",
     "text": [
      "{'LM-Stat': 19.538656209559008, 'LM p-val': 9.858439897853715e-06, 'F-Stat': 27.076527849162307, 'F p-val': 2.2705472499006754e-06}\n"
     ]
    }
   ],
   "source": [
    "breusch_pagan = het_breuschpagan(fe_df['residual'], exog)\n",
    "labels = ['LM-Stat', 'LM p-val', 'F-Stat', 'F p-val'] \n",
    "print(dict(zip(labels, breusch_pagan)))"
   ]
  },
  {
   "cell_type": "code",
   "execution_count": 33,
   "id": "662d9f45",
   "metadata": {},
   "outputs": [
    {
     "name": "stdout",
     "output_type": "stream",
     "text": [
      "                country  code  year   electric  exchangerate       fdi  \\\n",
      "country  year                                                            \n",
      "kenya    2006     kenya     1  2006  26.553055  7.210084e+01  7.625776   \n",
      "         2007     kenya     1  2007  28.426634  6.731667e+01  7.570348   \n",
      "         2008     kenya     1  2008  30.303398  6.917583e+01  8.718309   \n",
      "         2009     kenya     1  2009  23.000000  7.735083e+01  9.274714   \n",
      "         2010     kenya     1  2010  19.200000  7.923333e+01  2.515270   \n",
      "...                 ...   ...   ...        ...           ...       ...   \n",
      "zimbabwe 2014  zimbabwe     5  2014  32.300000  1.222375e+08  2.425173   \n",
      "         2015  zimbabwe     5  2015  33.700000  1.222375e+08  1.999687   \n",
      "         2016  zimbabwe     5  2016  39.676228  1.222375e+08  1.669274   \n",
      "         2017  zimbabwe     5  2017  40.144283  1.222375e+08  1.746885   \n",
      "         2018  zimbabwe     5  2018  40.616360  1.222375e+08  3.962704   \n",
      "\n",
      "               gdpcapita    hdi  immunization  rhinos  stability      trade  \\\n",
      "country  year                                                                 \n",
      "kenya    2006   4059.101  0.515            77     3.0  -1.125182  55.236485   \n",
      "         2007   4405.410  0.523            80     1.0  -1.302541  53.894789   \n",
      "         2008   4212.367  0.532            90     6.0  -1.391941  57.578599   \n",
      "         2009   4295.387  0.541            88    21.0  -1.425457  45.945192   \n",
      "         2010   5394.997  0.551            86    22.0  -1.165524  50.394287   \n",
      "...                  ...    ...           ...     ...        ...        ...   \n",
      "zimbabwe 2014   1434.896  0.547            92    20.0  -0.713570  54.671615   \n",
      "         2015   1445.070  0.553            86    50.0  -0.618156  56.748811   \n",
      "         2016   1464.589  0.558            95    35.0  -0.619938  51.219025   \n",
      "         2017   1235.189  0.563            90    36.0  -0.708769  50.029712   \n",
      "         2018   1254.642  0.569            88    34.0  -0.722774  69.447021   \n",
      "\n",
      "                  tourism  \n",
      "country  year              \n",
      "kenya    2006  1181000000  \n",
      "         2007  1514000000  \n",
      "         2008  1398000000  \n",
      "         2009  1124000000  \n",
      "         2010  1620000000  \n",
      "...                   ...  \n",
      "zimbabwe 2014   186000000  \n",
      "         2015   191000000  \n",
      "         2016   194000000  \n",
      "         2017   158000000  \n",
      "         2018   191000000  \n",
      "\n",
      "[65 rows x 13 columns]\n"
     ]
    }
   ],
   "source": [
    "# import rhino tourism dataset  \n",
    "df = pd.read_csv('/Users/zoeyroberts/Documents/Spring 2022/Econs 525/Rhino Tourism Dataset.csv', \\\n",
    "                usecols = ['country', 'code', 'year', 'electric', 'exchangerate', 'fdi', \\\n",
    "                           'gdpcapita', 'immunization', 'hdi', 'rhinos', 'stability', \\\n",
    "                           'tourism', 'trade'])\n",
    "df = df.set_index(['country', 'year'], drop=False)\n",
    "print(df)"
   ]
  },
  {
   "cell_type": "code",
   "execution_count": 34,
   "id": "bfdfe4b4",
   "metadata": {},
   "outputs": [],
   "source": [
    "df['tourism_ln'] = np.log(df['tourism'])\n",
    "df['exchangerate_ln'] = np.log(df['exchangerate'])"
   ]
  },
  {
   "cell_type": "code",
   "execution_count": 35,
   "id": "ab76a436",
   "metadata": {
    "scrolled": false
   },
   "outputs": [
    {
     "name": "stdout",
     "output_type": "stream",
     "text": [
      "fe_cluster.summary: \n",
      "                          PanelOLS Estimation Summary                           \n",
      "================================================================================\n",
      "Dep. Variable:             tourism_ln   R-squared:                        0.3965\n",
      "Estimator:                   PanelOLS   R-squared (Between):              0.0744\n",
      "No. Observations:                  65   R-squared (Within):               0.3965\n",
      "Date:                Tue, May 03 2022   R-squared (Overall):              0.0744\n",
      "Time:                        21:25:44   Log-likelihood                    24.207\n",
      "Cov. Estimator:             Clustered                                           \n",
      "                                        F-statistic:                      4.9753\n",
      "Entities:                           5   P-value                           0.0002\n",
      "Avg Obs:                       13.000   Distribution:                    F(7,53)\n",
      "Min Obs:                       13.000                                           \n",
      "Max Obs:                       13.000   F-statistic (robust):         -4.993e+17\n",
      "                                        P-value                           1.0000\n",
      "Time periods:                      13   Distribution:                    chi2(7)\n",
      "Avg Obs:                       5.0000                                           \n",
      "Min Obs:                       5.0000                                           \n",
      "Max Obs:                       5.0000                                           \n",
      "                                                                                \n",
      "                                Parameter Estimates                                \n",
      "===================================================================================\n",
      "                 Parameter  Std. Err.     T-stat    P-value    Lower CI    Upper CI\n",
      "-----------------------------------------------------------------------------------\n",
      "electric            0.0069     0.0020     3.4173     0.0006      0.0029      0.0109\n",
      "exchangerate_ln    -0.0454     0.0023    -19.777     0.0000     -0.0500     -0.0409\n",
      "fdi                -0.0062     0.0015    -4.1600     0.0000     -0.0091     -0.0033\n",
      "gdpcapita        6.421e-05  4.831e-05     1.3290     0.1838  -3.048e-05      0.0002\n",
      "rhinos           5.584e-05  5.248e-05     1.0641     0.2873  -4.702e-05      0.0002\n",
      "stability           0.1940     0.1028     1.8876     0.0591     -0.0074      0.3954\n",
      "trade               0.0086     0.0027     3.1279     0.0018      0.0032      0.0140\n",
      "===================================================================================\n",
      "\n",
      "F-test for Poolability: 86.034\n",
      "P-value: 0.0000\n",
      "Distribution: F(4,53)\n",
      "\n",
      "Included effects: Entity\n",
      "\n",
      "re_results.summary: \n",
      "                        RandomEffects Estimation Summary                        \n",
      "================================================================================\n",
      "Dep. Variable:             tourism_ln   R-squared:                        0.9753\n",
      "Estimator:              RandomEffects   R-squared (Between):              0.9948\n",
      "No. Observations:                  65   R-squared (Within):              -177.53\n",
      "Date:                Tue, May 03 2022   R-squared (Overall):              0.9753\n",
      "Time:                        21:25:44   Log-likelihood                   -168.36\n",
      "Cov. Estimator:            Unadjusted                                           \n",
      "                                        F-statistic:                      326.76\n",
      "Entities:                           5   P-value                           0.0000\n",
      "Avg Obs:                       13.000   Distribution:                    F(7,58)\n",
      "Min Obs:                       13.000                                           \n",
      "Max Obs:                       13.000   F-statistic (robust):             326.76\n",
      "                                        P-value                           0.0000\n",
      "Time periods:                      13   Distribution:                    F(7,58)\n",
      "Avg Obs:                       5.0000                                           \n",
      "Min Obs:                       5.0000                                           \n",
      "Max Obs:                       5.0000                                           \n",
      "                                                                                \n",
      "                                Parameter Estimates                                \n",
      "===================================================================================\n",
      "                 Parameter  Std. Err.     T-stat    P-value    Lower CI    Upper CI\n",
      "-----------------------------------------------------------------------------------\n",
      "electric            0.2012     0.0236     8.5104     0.0000      0.1538      0.2485\n",
      "exchangerate_ln     0.1307     0.0951     1.3747     0.1745     -0.0596      0.3209\n",
      "fdi                 0.1784     0.0718     2.4851     0.0159      0.0347      0.3222\n",
      "gdpcapita           0.0006     0.0002     2.8141     0.0067      0.0002      0.0010\n",
      "rhinos             -0.0012     0.0020    -0.5958     0.5536     -0.0053      0.0029\n",
      "stability          -2.3902     0.7288    -3.2795     0.0018     -3.8491     -0.9313\n",
      "trade               0.0943     0.0199     4.7456     0.0000      0.0545      0.1340\n",
      "===================================================================================\n",
      "\n",
      "common_coef: {'fdi', 'gdpcapita', 'exchangerate_ln', 'stability', 'electric', 'rhinos', 'trade'}\n",
      "\n",
      "stat: 5355.218771966415\n",
      "\n",
      "pval: 0.0\n",
      "\n"
     ]
    }
   ],
   "source": [
    "fe_reg = plm.PanelOLS.from_formula(\n",
    "    formula='tourism_ln ~ electric + exchangerate_ln + fdi + gdpcapita + \\\n",
    "             rhinos + stability + trade + EntityEffects', data=df)\n",
    "fe_cluster = fe_reg.fit(cov_type='clustered', cluster_entity=True, debiased=False)\n",
    "b_fe = fe_cluster.params\n",
    "b_fe_cov = fe_cluster.cov\n",
    "print(f'fe_cluster.summary: \\n{fe_cluster.summary}\\n')\n",
    "\n",
    "re_reg = plm.RandomEffects.from_formula(\n",
    "    formula='tourism_ln ~ electric + exchangerate_ln + fdi + gdpcapita + \\\n",
    "             rhinos + stability + trade', data=df)\n",
    "re_results = re_reg.fit()\n",
    "b_re = re_results.params\n",
    "b_re_cov = re_results.cov\n",
    "print(f're_results.summary: \\n{re_results.summary}\\n')\n",
    "\n",
    "common_coef = set(fe_cluster.params.index).intersection(fe_cluster.params.index)\n",
    "print(f'common_coef: {common_coef}\\n')\n",
    "\n",
    "b_diff = np.array(fe_cluster.params[common_coef] - re_results.params[common_coef])\n",
    "df = len(b_diff)\n",
    "b_diff.reshape((df, 1))\n",
    "b_cov_diff = np.array(b_fe_cov.loc[common_coef, common_coef] -\n",
    "                      b_re_cov.loc[common_coef, common_coef])\n",
    "b_cov_diff.reshape((df, df))\n",
    "\n",
    "\n",
    "stat = abs(np.transpose(b_diff) @ np.linalg.inv(b_cov_diff) @ b_diff)\n",
    "pval = 1 - stats.chi2.cdf(stat, df)\n",
    "\n",
    "print(f'stat: {stat}\\n')\n",
    "print(f'pval: {pval}\\n')"
   ]
  },
  {
   "cell_type": "code",
   "execution_count": null,
   "id": "33e94696",
   "metadata": {},
   "outputs": [],
   "source": []
  }
 ],
 "metadata": {
  "kernelspec": {
   "display_name": "Python 3 (ipykernel)",
   "language": "python",
   "name": "python3"
  },
  "language_info": {
   "codemirror_mode": {
    "name": "ipython",
    "version": 3
   },
   "file_extension": ".py",
   "mimetype": "text/x-python",
   "name": "python",
   "nbconvert_exporter": "python",
   "pygments_lexer": "ipython3",
   "version": "3.8.8"
  }
 },
 "nbformat": 4,
 "nbformat_minor": 5
}
