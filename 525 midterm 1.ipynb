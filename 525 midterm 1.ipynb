{
 "cells": [
  {
   "cell_type": "code",
   "execution_count": 10,
   "id": "c3f1ab4b",
   "metadata": {},
   "outputs": [],
   "source": [
    "# import tools\n",
    "import numpy as np\n",
    "import pandas as pd\n",
    "import wooldridge as woo\n",
    "import statsmodels.formula.api as smf \n",
    "import patsy as pt\n",
    "import scipy.stats as stats\n",
    "import matplotlib.pyplot as plt\n",
    "from statsmodels.stats.outliers_influence import variance_inflation_factor"
   ]
  },
  {
   "cell_type": "code",
   "execution_count": 11,
   "id": "24d72c2f",
   "metadata": {},
   "outputs": [],
   "source": [
    "# question 1"
   ]
  },
  {
   "cell_type": "code",
   "execution_count": 12,
   "id": "67b76b5e",
   "metadata": {},
   "outputs": [],
   "source": [
    "# (a) \n",
    "# log(demand) = B1*log(price) + B2*log(income) + B3*adults + B4*children + error\n",
    "# demand: quantity of RingOs demanded in ounces, price: price elasticity of RingOs, \n",
    "# adults: number of other adults individual lives with, \n",
    "# children: children in household between the ages of 5 and 18 "
   ]
  },
  {
   "cell_type": "code",
   "execution_count": 13,
   "id": "abc5c44c",
   "metadata": {},
   "outputs": [],
   "source": [
    "# (b)\n",
    "# i would use the estimator Bhat = (x'x)^-1x'y"
   ]
  },
  {
   "cell_type": "code",
   "execution_count": 14,
   "id": "c26a6430",
   "metadata": {},
   "outputs": [],
   "source": [
    "# (c)\n",
    "# underlying assumptions you would need to make are 1) the regression is linear\n",
    "# in parameters; would not violate because the coefficients and error term should \n",
    "# be linear, 2) no perfect collinearity; would not violate becuase none of the \n",
    "# coefficients should have a perfectly linear relationship because none of them \n",
    "# measure remotely similar things, 3) the conditional mean equals zero; would not violate\n",
    "# because the error terms should not depend on the independent variables of price, income, \n",
    "# adults, or children, 4) homoskedasticity is present; would not violate as the variances are \n",
    "# constant when conditional on X, 5) no serial correlation or endogeneity, so that all \n",
    "# error terms are uncorrelated with each other and the coefficients; might violate because\n",
    "# omitted variable bias creates endogeneity and there are outside factors affecting\n",
    "# the demand of RingOs, such as location, culture, etc. that are not measured in the\n",
    "# regression."
   ]
  },
  {
   "cell_type": "code",
   "execution_count": 15,
   "id": "7810b135",
   "metadata": {},
   "outputs": [],
   "source": [
    "# (d) \n",
    "# Bhat = (x'x)^-1x'y\n",
    "#      = (x'x)^-1x'(xB+e)\n",
    "#      = (x'x)^-1x'xB + (x'x)^-1x'e\n",
    "#      = B + (x'x)^-1x'e\n",
    "# E(Bhat) = E(B) + E[(x'x)^-1x'e]\n",
    "#         = B + (x'x)^-1x'E(e)\n",
    "#         = B therefore, the OLS estimator is unbiased and consistent"
   ]
  },
  {
   "cell_type": "code",
   "execution_count": 16,
   "id": "f9f165bb",
   "metadata": {},
   "outputs": [],
   "source": [
    "# (e) \n",
    "# when the error term is normally distributed, the coefficients like price and income\n",
    "# elasticity will also be normally distributed as their estimators are linear vectors \n",
    "# of the error terms.\n",
    "\n",
    "# according to the central limit theorem, sample sizes at or above 30 are most likely\n",
    "# to approximate a normal distribution."
   ]
  },
  {
   "cell_type": "code",
   "execution_count": 17,
   "id": "a22a134b",
   "metadata": {},
   "outputs": [],
   "source": [
    "# (f) \n",
    "# B1 on log(price) would be negative because the higher price elasticity of a good\n",
    "# the more likely people are to lower their demand for RingOs as its price heightens.\n",
    "\n",
    "# B2 on log(income) would be positive because, assuming RingOs are a normal good, \n",
    "# people with higher incomes will most likely purchase more of them.\n",
    "\n",
    "# B3 and B4 on adults and children would both be positive because logically, \n",
    "# the larger the household, the more food and therefore RingOs bought and consumed.\n",
    "\n",
    "# specific statistics i would use to evaluate my regression model are t tests on each \n",
    "# coefficient to determine their significance an f test to determine the significance\n",
    "# of the OLS equation as a whole, and the adjusted R squared to determine what percentage\n",
    "# of the variance in demand is explained by the independent variables and will increase\n",
    "# when new terms are added to improve the regression."
   ]
  },
  {
   "cell_type": "code",
   "execution_count": 18,
   "id": "46a4311d",
   "metadata": {},
   "outputs": [],
   "source": [
    "# (g) \n",
    "# post estimation, i would perform the variance inflation factor (VIF) to measure \n",
    "# the amount of multicollinearity in the linear regression.\n",
    "\n",
    "# additionally, i'd use the White and Breusch–Pagan tests to see if the errors' \n",
    "# variances are constant and test for heteroskedasticity."
   ]
  },
  {
   "cell_type": "code",
   "execution_count": 19,
   "id": "b7ba843f",
   "metadata": {},
   "outputs": [],
   "source": [
    "# question 2"
   ]
  },
  {
   "cell_type": "code",
   "execution_count": 20,
   "id": "4bfd888a",
   "metadata": {},
   "outputs": [],
   "source": [
    "# (a) \n",
    "# casual or treatment effect is the effect a binary variable that holds a value \n",
    "# of 0 or 1 has on a given dependent variable, potentially investigating a policy. "
   ]
  },
  {
   "cell_type": "code",
   "execution_count": 21,
   "id": "023feeb0",
   "metadata": {},
   "outputs": [],
   "source": [
    "# (b)\n",
    "# the average casual effect (ACE) or average treatment effect (ATE) is the mean of\n",
    "# all casual/treatment effects in the studies' population."
   ]
  },
  {
   "cell_type": "code",
   "execution_count": 22,
   "id": "9b636363",
   "metadata": {},
   "outputs": [],
   "source": [
    "# (c) \n",
    "# the treatment group is the part of the population subject to the binary variables'\n",
    "# value of 1, the policy or intervention in effect.\n",
    "\n",
    "# the control group is the part of the population subject to the binary variables'\n",
    "# value of 0, meaning the group does not receive the policy or intervention."
   ]
  },
  {
   "cell_type": "code",
   "execution_count": 23,
   "id": "bb32f770",
   "metadata": {},
   "outputs": [],
   "source": [
    "# (d) \n",
    "# a counterfactual outcome is the hypothetical experience one would have faced\n",
    "# if they had been a part of the treatment group and issued the policy or \n",
    "# intervention."
   ]
  },
  {
   "cell_type": "code",
   "execution_count": 24,
   "id": "64364fe2",
   "metadata": {},
   "outputs": [],
   "source": [
    "# (e) \n",
    "# randomized controlled trial (RCT) is a study that randomly assigns groups of the\n",
    "# population to either the treatment or control group."
   ]
  },
  {
   "cell_type": "code",
   "execution_count": 25,
   "id": "1c2edd3e",
   "metadata": {},
   "outputs": [
    {
     "name": "stdout",
     "output_type": "stream",
     "text": [
      "testdata: \n",
      "      train  age  educ  black  hisp  married    earn96  unemp96     earn98  \\\n",
      "0         0   37    11      1     0        1   0.00000        1   1.617924   \n",
      "1         0   30    12      1     0        0   0.00000        1   0.000000   \n",
      "2         1   27    11      1     0        0   0.00000        1   0.000000   \n",
      "3         1   33     8      1     0        0   0.00000        1   9.070150   \n",
      "4         0   22     9      1     0        0   0.00000        1   4.019341   \n",
      "...     ...  ...   ...    ...   ...      ...       ...      ...        ...   \n",
      "1125      1   48    10      0     0        1   5.72904        0   0.000000   \n",
      "1126      0   28    11      0     0        1  10.74194        0  15.375220   \n",
      "1127      0   52    11      0     0        1   0.00000        1   0.000000   \n",
      "1128      1   48     8      0     0        1   0.00000        1   7.408490   \n",
      "1129      1   32     9      0     0        1   2.86452        0  11.925550   \n",
      "\n",
      "      unem98  \n",
      "0          0  \n",
      "1          1  \n",
      "2          1  \n",
      "3          0  \n",
      "4          0  \n",
      "...      ...  \n",
      "1125       1  \n",
      "1126       0  \n",
      "1127       1  \n",
      "1128       0  \n",
      "1129       0  \n",
      "\n",
      "[1130 rows x 10 columns]\n",
      "\n"
     ]
    }
   ],
   "source": [
    "# (f) \n",
    "# import cvs \n",
    "jobdata = pd.read_csv('/Users/zoeyroberts/Documents/Spring 2022/Econs 525/JTRAIN98.csv', delimiter=',', header=None,\n",
    "                       names=['train','age','educ','black','hisp','married','earn96','unemp96','earn98','unem98'])\n",
    "pd.set_option('display.max_rows', 10)\n",
    "print(f'testdata: \\n{jobdata}\\n')"
   ]
  },
  {
   "cell_type": "code",
   "execution_count": 26,
   "id": "14f3d57e",
   "metadata": {},
   "outputs": [
    {
     "name": "stdout",
     "output_type": "stream",
     "text": [
      "Data_summary:\n",
      "             train          age         educ        black         hisp  \\\n",
      "count  1130.000000  1130.000000  1130.000000  1130.000000  1130.000000   \n",
      "mean      0.332743    31.938938    10.965487     0.439823     0.045133   \n",
      "std       0.471404    10.882853     2.964755     0.496585     0.207687   \n",
      "min       0.000000    17.000000     0.000000     0.000000     0.000000   \n",
      "25%       0.000000    23.000000     9.000000     0.000000     0.000000   \n",
      "50%       0.000000    28.000000    12.000000     0.000000     0.000000   \n",
      "75%       1.000000    41.000000    12.000000     1.000000     0.000000   \n",
      "max       1.000000    55.000000    17.000000     1.000000     1.000000   \n",
      "\n",
      "           married       earn96      unemp96       earn98       unem98  \n",
      "count  1130.000000  1130.000000  1130.000000  1130.000000  1130.000000  \n",
      "mean      0.692035    12.199981     0.312389     9.927755     0.171681  \n",
      "std       0.461856    11.109135     0.463673     7.730107     0.377270  \n",
      "min       0.000000     0.000000     0.000000     0.000000     0.000000  \n",
      "25%       0.000000     0.000000     0.000000     2.723741     0.000000  \n",
      "50%       1.000000    10.924280     0.000000     9.385997     0.000000  \n",
      "75%       1.000000    22.144450     1.000000    15.730495     0.000000  \n",
      "max       1.000000    34.983000     1.000000    34.235310     1.000000  \n",
      "\n"
     ]
    }
   ],
   "source": [
    "# summary statistics \n",
    "Data_summary = jobdata.describe()\n",
    "print(f'Data_summary:\\n{Data_summary}\\n')\n",
    "\n",
    "# (i) \n",
    "# 17.17 percent of workers were unemployed in 1998 after the job training\n",
    "# compared to 31.23 percent in 1996"
   ]
  },
  {
   "cell_type": "code",
   "execution_count": 27,
   "id": "3c10fb33",
   "metadata": {},
   "outputs": [
    {
     "name": "stdout",
     "output_type": "stream",
     "text": [
      "results.summary(): \n",
      "                            OLS Regression Results                            \n",
      "==============================================================================\n",
      "Dep. Variable:                 unem98   R-squared:                       0.001\n",
      "Model:                            OLS   Adj. R-squared:                  0.000\n",
      "Method:                 Least Squares   F-statistic:                     1.164\n",
      "Date:                Tue, 08 Mar 2022   Prob (F-statistic):              0.281\n",
      "Time:                        16:07:46   Log-Likelihood:                -500.80\n",
      "No. Observations:                1130   AIC:                             1006.\n",
      "Df Residuals:                    1128   BIC:                             1016.\n",
      "Df Model:                           1                                         \n",
      "Covariance Type:            nonrobust                                         \n",
      "==============================================================================\n",
      "                 coef    std err          t      P>|t|      [0.025      0.975]\n",
      "------------------------------------------------------------------------------\n",
      "Intercept      0.1631      0.014     11.874      0.000       0.136       0.190\n",
      "train          0.0257      0.024      1.079      0.281      -0.021       0.072\n",
      "==============================================================================\n",
      "Omnibus:                      312.967   Durbin-Watson:                   1.718\n",
      "Prob(Omnibus):                  0.000   Jarque-Bera (JB):              619.252\n",
      "Skew:                           1.739   Prob(JB):                    3.40e-135\n",
      "Kurtosis:                       4.030   Cond. No.                         2.41\n",
      "==============================================================================\n",
      "\n",
      "Notes:\n",
      "[1] Standard Errors assume that the covariance matrix of the errors is correctly specified.\n",
      "\n"
     ]
    }
   ],
   "source": [
    "reg = smf.ols(formula='unem98 ~ train', data=jobdata)\n",
    "results = reg.fit()\n",
    "print(f'results.summary(): \\n{results.summary()}\\n')\n",
    "\n",
    "# (ii) \n",
    "# the coefficient on train is 0.0257, meaning people who received the training\n",
    "# were 2.57 percent more likely to be unemployed.\n",
    "\n",
    "# train's coefficient is not significant because the p-value is 0.281 which is \n",
    "# less than 0.05.\n",
    "\n",
    "# this does not make sense because one would expect someone to be more\n",
    "# employable once they receive specific job training."
   ]
  },
  {
   "cell_type": "code",
   "execution_count": 28,
   "id": "43865782",
   "metadata": {},
   "outputs": [
    {
     "name": "stdout",
     "output_type": "stream",
     "text": [
      "results.summary(): \n",
      "                            OLS Regression Results                            \n",
      "==============================================================================\n",
      "Dep. Variable:                 unem98   R-squared:                       0.232\n",
      "Model:                            OLS   Adj. R-squared:                  0.229\n",
      "Method:                 Least Squares   F-statistic:                     67.99\n",
      "Date:                Tue, 08 Mar 2022   Prob (F-statistic):           3.63e-62\n",
      "Time:                        16:07:47   Log-Likelihood:                -352.09\n",
      "No. Observations:                1130   AIC:                             716.2\n",
      "Df Residuals:                    1124   BIC:                             746.4\n",
      "Df Model:                           5                                         \n",
      "Covariance Type:            nonrobust                                         \n",
      "==============================================================================\n",
      "                 coef    std err          t      P>|t|      [0.025      0.975]\n",
      "------------------------------------------------------------------------------\n",
      "Intercept      0.2896      0.063      4.561      0.000       0.165       0.414\n",
      "train         -0.1208      0.024     -5.005      0.000      -0.168      -0.073\n",
      "earn96        -0.0133      0.001    -12.851      0.000      -0.015      -0.011\n",
      "educ          -0.0130      0.004     -3.675      0.000      -0.020      -0.006\n",
      "age            0.0082      0.001      7.800      0.000       0.006       0.010\n",
      "married       -0.0483      0.024     -2.043      0.041      -0.095      -0.002\n",
      "==============================================================================\n",
      "Omnibus:                      153.269   Durbin-Watson:                   1.994\n",
      "Prob(Omnibus):                  0.000   Jarque-Bera (JB):              217.223\n",
      "Skew:                           1.057   Prob(JB):                     6.77e-48\n",
      "Kurtosis:                       3.383   Cond. No.                         243.\n",
      "==============================================================================\n",
      "\n",
      "Notes:\n",
      "[1] Standard Errors assume that the covariance matrix of the errors is correctly specified.\n",
      "\n"
     ]
    }
   ],
   "source": [
    "reg = smf.ols(formula='unem98 ~ train + earn96 + educ + age + married', data=jobdata)\n",
    "results = reg.fit()\n",
    "print(f'results.summary(): \\n{results.summary()}\\n')\n",
    "\n",
    "# (iii) \n",
    "# the estimated training effect is now that someone is 12.08 percent less likely\n",
    "# to be unemployed after receiving the training.\n",
    "\n",
    "# this differs so much from part ii because adding more variables to the \n",
    "# regression, which in turn makes train's coefficient more accurate and have a \n",
    "# logical effect."
   ]
  },
  {
   "cell_type": "code",
   "execution_count": 29,
   "id": "3048806f",
   "metadata": {},
   "outputs": [
    {
     "name": "stdout",
     "output_type": "stream",
     "text": [
      "results.summary(): \n",
      "                            OLS Regression Results                            \n",
      "==============================================================================\n",
      "Dep. Variable:                 unem98   R-squared:                       0.233\n",
      "Model:                            OLS   Adj. R-squared:                  0.227\n",
      "Method:                 Least Squares   F-statistic:                     37.88\n",
      "Date:                Tue, 08 Mar 2022   Prob (F-statistic):           5.26e-59\n",
      "Time:                        16:07:47   Log-Likelihood:                -351.23\n",
      "No. Observations:                1130   AIC:                             722.5\n",
      "Df Residuals:                    1120   BIC:                             772.8\n",
      "Df Model:                           9                                         \n",
      "Covariance Type:            nonrobust                                         \n",
      "====================================================================================\n",
      "                       coef    std err          t      P>|t|      [0.025      0.975]\n",
      "------------------------------------------------------------------------------------\n",
      "Intercept            0.2614      0.077      3.385      0.001       0.110       0.413\n",
      "train               -0.1226      0.030     -4.144      0.000      -0.181      -0.065\n",
      "earn96              -0.0133      0.001    -11.968      0.000      -0.016      -0.011\n",
      "educ                -0.0107      0.004     -2.464      0.014      -0.019      -0.002\n",
      "age                  0.0080      0.001      6.294      0.000       0.005       0.010\n",
      "married             -0.0366      0.030     -1.209      0.227      -0.096       0.023\n",
      "train:av_earn96      0.0002      0.003      0.068      0.946      -0.006       0.006\n",
      "train:av_educ       -0.0073      0.008     -0.962      0.336      -0.022       0.008\n",
      "train:av_age         0.0008      0.002      0.342      0.733      -0.004       0.005\n",
      "train:av_married    -0.0314      0.049     -0.640      0.522      -0.128       0.065\n",
      "==============================================================================\n",
      "Omnibus:                      153.550   Durbin-Watson:                   1.996\n",
      "Prob(Omnibus):                  0.000   Jarque-Bera (JB):              217.558\n",
      "Skew:                           1.055   Prob(JB):                     5.72e-48\n",
      "Kurtosis:                       3.407   Cond. No.                         293.\n",
      "==============================================================================\n",
      "\n",
      "Notes:\n",
      "[1] Standard Errors assume that the covariance matrix of the errors is correctly specified.\n",
      "\n"
     ]
    }
   ],
   "source": [
    "jobdata['av_married'] = jobdata['married'] - np.mean(jobdata['married'])\n",
    "jobdata['av_age'] = jobdata['age'] - np.mean(jobdata['age'])\n",
    "jobdata['av_educ'] = jobdata['educ'] - np.mean(jobdata['educ'])\n",
    "jobdata['av_earn96'] = jobdata['earn96'] - np.mean(jobdata['earn96'])\n",
    "\n",
    "reg = smf.ols(formula='unem98 ~ train + earn96 + educ + age + married \\\n",
    "              + train:av_earn96 + train:av_educ + train:av_age \\\n",
    "              + train:av_married', data=jobdata)\n",
    "results = reg.fit()\n",
    "print(f'results.summary(): \\n{results.summary()}\\n')\n",
    "\n",
    "\n",
    "# (iv)\n",
    "# the estimated average treatment effect of train grew slightly by 0.008 with its \n",
    "# standard error acting similarly and increasing by only 0.006."
   ]
  },
  {
   "cell_type": "code",
   "execution_count": 30,
   "id": "3b6cadc9",
   "metadata": {},
   "outputs": [
    {
     "name": "stdout",
     "output_type": "stream",
     "text": [
      "fstat1: 0.4264285114371775\n",
      "\n",
      "fpval1: 0.7896388024065438\n",
      "\n"
     ]
    }
   ],
   "source": [
    "# automated f test\n",
    "hypotheses1 = ['train:av_married = train:av_age = train:av_educ = train:av_earn96 = 0']\n",
    "ftest = results.f_test(hypotheses1)\n",
    "\n",
    "fstat = ftest.statistic[0][0]\n",
    "fpval = ftest.pvalue\n",
    "print(f'fstat1: {fstat}\\n')\n",
    "print(f'fpval1: {fpval}\\n')\n",
    "\n",
    "# (v)\n",
    "# the interaction terms are not jointly significant are all equal zero because\n",
    "# their collective p value is 0.79 and greater than 0.05."
   ]
  },
  {
   "cell_type": "code",
   "execution_count": 165,
   "id": "964e228f",
   "metadata": {},
   "outputs": [
    {
     "name": "stdout",
     "output_type": "stream",
     "text": [
      "results.summary(): \n",
      "                            OLS Regression Results                            \n",
      "==============================================================================\n",
      "Dep. Variable:                 unem98   R-squared:                       0.151\n",
      "Model:                            OLS   Adj. R-squared:                  0.141\n",
      "Method:                 Least Squares   F-statistic:                     16.45\n",
      "Date:                Tue, 08 Mar 2022   Prob (F-statistic):           2.03e-12\n",
      "Time:                        19:35:42   Log-Likelihood:                -150.10\n",
      "No. Observations:                 376   AIC:                             310.2\n",
      "Df Residuals:                     371   BIC:                             329.8\n",
      "Df Model:                           4                                         \n",
      "Covariance Type:            nonrobust                                         \n",
      "====================================================================================\n",
      "                       coef    std err          t      P>|t|      [0.025      0.975]\n",
      "------------------------------------------------------------------------------------\n",
      "Intercept        -7.987e+10   3.71e+10     -2.150      0.032   -1.53e+11   -6.83e+09\n",
      "train            -8.912e+10   4.14e+10     -2.150      0.032   -1.71e+11   -7.62e+09\n",
      "earn96           -2.338e+11   1.09e+11     -2.150      0.032   -4.48e+11      -2e+10\n",
      "educ             -4.331e+11   2.01e+11     -2.150      0.032   -8.29e+11    -3.7e+10\n",
      "age               2.432e+11   1.13e+11      2.150      0.032    2.08e+10    4.66e+11\n",
      "married           3.691e+09   1.72e+09      2.150      0.032    3.15e+08    7.07e+09\n",
      "train:av_earn96   2.338e+11   1.09e+11      2.150      0.032       2e+10    4.48e+11\n",
      "train:av_educ     4.331e+11   2.01e+11      2.150      0.032     3.7e+10    8.29e+11\n",
      "train:av_age     -2.432e+11   1.13e+11     -2.150      0.032   -4.66e+11   -2.08e+10\n",
      "train:av_married -3.691e+09   1.72e+09     -2.150      0.032   -7.07e+09   -3.15e+08\n",
      "==============================================================================\n",
      "Omnibus:                       66.181   Durbin-Watson:                   2.131\n",
      "Prob(Omnibus):                  0.000   Jarque-Bera (JB):               98.102\n",
      "Skew:                           1.235   Prob(JB):                     4.98e-22\n",
      "Kurtosis:                       3.396   Cond. No.                     2.30e+17\n",
      "==============================================================================\n",
      "\n",
      "Notes:\n",
      "[1] Standard Errors assume that the covariance matrix of the errors is correctly specified.\n",
      "[2] The smallest eigenvalue is 8.85e-30. This might indicate that there are\n",
      "strong multicollinearity problems or that the design matrix is singular.\n",
      "\n",
      "2       0.251953\n",
      "3       0.358398\n",
      "5       0.198242\n",
      "7       0.118164\n",
      "9       0.163086\n",
      "          ...   \n",
      "1123    0.215820\n",
      "1124    0.173828\n",
      "1125    0.313477\n",
      "1128    0.422852\n",
      "1129    0.226562\n",
      "Length: 376, dtype: float64\n",
      "results.summary(): \n",
      "                            OLS Regression Results                            \n",
      "==============================================================================\n",
      "Dep. Variable:                 unem98   R-squared:                       0.278\n",
      "Model:                            OLS   Adj. R-squared:                  0.274\n",
      "Method:                 Least Squares   F-statistic:                     72.22\n",
      "Date:                Tue, 08 Mar 2022   Prob (F-statistic):           9.28e-52\n",
      "Time:                        19:35:42   Log-Likelihood:                -196.18\n",
      "No. Observations:                 754   AIC:                             402.4\n",
      "Df Residuals:                     749   BIC:                             425.5\n",
      "Df Model:                           4                                         \n",
      "Covariance Type:            nonrobust                                         \n",
      "====================================================================================\n",
      "                       coef    std err          t      P>|t|      [0.025      0.975]\n",
      "------------------------------------------------------------------------------------\n",
      "Intercept            0.2614      0.073      3.564      0.000       0.117       0.405\n",
      "train             1.037e-15    2.9e-16      3.574      0.000    4.67e-16    1.61e-15\n",
      "earn96              -0.0133      0.001    -12.604      0.000      -0.015      -0.011\n",
      "educ                -0.0107      0.004     -2.595      0.010      -0.019      -0.003\n",
      "age                  0.0080      0.001      6.628      0.000       0.006       0.010\n",
      "married             -0.0366      0.029     -1.274      0.203      -0.093       0.020\n",
      "train:av_earn96           0          0        nan        nan           0           0\n",
      "train:av_educ             0          0        nan        nan           0           0\n",
      "train:av_age              0          0        nan        nan           0           0\n",
      "train:av_married          0          0        nan        nan           0           0\n",
      "==============================================================================\n",
      "Omnibus:                       81.837   Durbin-Watson:                   2.088\n",
      "Prob(Omnibus):                  0.000   Jarque-Bera (JB):              106.779\n",
      "Skew:                           0.909   Prob(JB):                     6.50e-24\n",
      "Kurtosis:                       3.307   Cond. No.                          inf\n",
      "==============================================================================\n",
      "\n",
      "Notes:\n",
      "[1] Standard Errors assume that the covariance matrix of the errors is correctly specified.\n",
      "[2] The smallest eigenvalue is      0. This might indicate that there are\n",
      "strong multicollinearity problems or that the design matrix is singular.\n",
      "\n",
      "0       0.402355\n",
      "1       0.372516\n",
      "4       0.340752\n",
      "6       0.399133\n",
      "8       0.316834\n",
      "          ...   \n",
      "1120    0.198320\n",
      "1121    0.221600\n",
      "1122    0.381755\n",
      "1126    0.187372\n",
      "1127    0.521943\n",
      "Length: 754, dtype: float64\n"
     ]
    },
    {
     "name": "stderr",
     "output_type": "stream",
     "text": [
      "/Users/zoeyroberts/opt/anaconda3/lib/python3.8/site-packages/statsmodels/regression/linear_model.py:1860: RuntimeWarning: divide by zero encountered in double_scalars\n",
      "  return np.sqrt(eigvals[0]/eigvals[-1])\n"
     ]
    }
   ],
   "source": [
    "# regression with training\n",
    "reg = smf.ols(formula='unem98 ~ train + earn96 + educ + age + married \\\n",
    "              + train:av_earn96 + train:av_educ + train:av_age \\\n",
    "              + train:av_married', data=jobdata, \n",
    "             subset=(jobdata['train'] == 1))\n",
    "results = reg.fit()\n",
    "print(f'results.summary(): \\n{results.summary()}\\n')\n",
    "unem98_hat1 = results.fittedvalues\n",
    "print(unem98_hat1)\n",
    "\n",
    "# regression without training\n",
    "reg = smf.ols(formula='unem98 ~ train + earn96 + educ + age + married \\\n",
    "              + train:av_earn96 + train:av_educ + train:av_age \\\n",
    "              + train:av_married', data=jobdata, \n",
    "             subset=(jobdata['train'] == 0))\n",
    "results = reg.fit()\n",
    "print(f'results.summary(): \\n{results.summary()}\\n')\n",
    "unem98_hat2 = results.fittedvalues\n",
    "print(unem98_hat2)\n",
    "\n",
    "# (vi)\n",
    "# in both regressions with and and without training (either equal to 0 or 1)\n",
    "# the train coefficient's value is essentially zero.\n",
    "\n",
    "# out of the two approaches, the first is more convienent for obtaining a standard error\n",
    "# because it is a less extensive calculation process."
   ]
  },
  {
   "cell_type": "code",
   "execution_count": 32,
   "id": "16d0420c",
   "metadata": {},
   "outputs": [],
   "source": [
    "# (g) \n",
    "# i don't think the policy experiement with the JTRAIN98 data set fits\n",
    "# the criteria for a randomized control trial (RCT) because in order to \n",
    "# enroll in a federally administered job training, one would already be \n",
    "# unemployed.\n",
    "\n",
    "# therefore, the study has no way of randomly assigning who gets the job\n",
    "# training in question, because the experiement's entire population \n",
    "# would be unemployed.\n",
    "\n",
    "# furthermore, there would be no randomization of the control and  \n",
    "# obviously fails to meet the requirements of RCT."
   ]
  },
  {
   "cell_type": "code",
   "execution_count": 33,
   "id": "e87c55c9",
   "metadata": {},
   "outputs": [
    {
     "name": "stdout",
     "output_type": "stream",
     "text": [
      "testdata: \n",
      "     City_zone  HomeAge  No_Baths  No_Bedrooms  No_FirePlace  No_GrageSpaces  \\\n",
      "0            1        6         2            3             0               2   \n",
      "1            4       59         3            4             1               0   \n",
      "2            4       56         3            3             0               2   \n",
      "3            1       11         3            4             0               2   \n",
      "4            2        3         2            3             1               2   \n",
      "..         ...      ...       ...          ...           ...             ...   \n",
      "235          1        0         3            4             1               3   \n",
      "236          2       10         2            4             1               2   \n",
      "237          2       14         2            4             1               2   \n",
      "238          1       11         2            4             1               2   \n",
      "239          1        0         4            5             1               2   \n",
      "\n",
      "     No_LivingRms  Tot_SQFT  SalePrice  \n",
      "0               2      2183   420000.0  \n",
      "1               1      2347  1587500.0  \n",
      "2               1      2104   812500.0  \n",
      "3               2      2184   380000.0  \n",
      "4               1      1705   373865.0  \n",
      "..            ...       ...        ...  \n",
      "235             2      2949   675000.0  \n",
      "236             1      1578   310000.0  \n",
      "237             1      2046   439975.0  \n",
      "238             2      2096   486250.0  \n",
      "239             2      3900  1032500.0  \n",
      "\n",
      "[240 rows x 9 columns]\n",
      "\n"
     ]
    }
   ],
   "source": [
    "# question 3\n",
    "# import csv file\n",
    "fencedata = pd.read_csv\\\n",
    "('/Users/zoeyroberts/Documents/Spring 2022/Econs 525/HouseSalesData.csv', delimiter=',', header=None,\n",
    "names = ['City_zone','HomeAge','No_Baths','No_Bedrooms', 'No_FirePlace','No_GrageSpaces','No_LivingRms', \\\n",
    "        'Tot_SQFT','SalePrice'])\n",
    "print(f'testdata: \\n{fencedata}\\n')"
   ]
  },
  {
   "cell_type": "code",
   "execution_count": 34,
   "id": "454cc325",
   "metadata": {},
   "outputs": [
    {
     "name": "stdout",
     "output_type": "stream",
     "text": [
      "     City_zone  HomeAge  No_Baths  No_Bedrooms  No_FirePlace  No_GrageSpaces  \\\n",
      "0            1        6         2            3             0               2   \n",
      "1            4       59         3            4             1               0   \n",
      "2            4       56         3            3             0               2   \n",
      "3            1       11         3            4             0               2   \n",
      "4            2        3         2            3             1               2   \n",
      "..         ...      ...       ...          ...           ...             ...   \n",
      "235          1        0         3            4             1               3   \n",
      "236          2       10         2            4             1               2   \n",
      "237          2       14         2            4             1               2   \n",
      "238          1       11         2            4             1               2   \n",
      "239          1        0         4            5             1               2   \n",
      "\n",
      "     No_LivingRms  Tot_SQFT  SalePrice  zone1  zone2  zone3  zone4  \n",
      "0               2      2183   420000.0      1      0      0      0  \n",
      "1               1      2347  1587500.0      0      0      0      1  \n",
      "2               1      2104   812500.0      0      0      0      1  \n",
      "3               2      2184   380000.0      1      0      0      0  \n",
      "4               1      1705   373865.0      0      1      0      0  \n",
      "..            ...       ...        ...    ...    ...    ...    ...  \n",
      "235             2      2949   675000.0      1      0      0      0  \n",
      "236             1      1578   310000.0      0      1      0      0  \n",
      "237             1      2046   439975.0      0      1      0      0  \n",
      "238             2      2096   486250.0      1      0      0      0  \n",
      "239             2      3900  1032500.0      1      0      0      0  \n",
      "\n",
      "[240 rows x 13 columns]\n",
      "     City_zone  HomeAge  No_Baths  No_Bedrooms  No_FirePlace  No_GrageSpaces  \\\n",
      "0            1        6         2            3             0               2   \n",
      "1            4       59         3            4             1               0   \n",
      "2            4       56         3            3             0               2   \n",
      "3            1       11         3            4             0               2   \n",
      "4            2        3         2            3             1               2   \n",
      "..         ...      ...       ...          ...           ...             ...   \n",
      "235          1        0         3            4             1               3   \n",
      "236          2       10         2            4             1               2   \n",
      "237          2       14         2            4             1               2   \n",
      "238          1       11         2            4             1               2   \n",
      "239          1        0         4            5             1               2   \n",
      "\n",
      "     No_LivingRms  Tot_SQFT  SalePrice  zone1  zone2  zone3  zone4  \\\n",
      "0               2      2183   420000.0      1      0      0      0   \n",
      "1               1      2347  1587500.0      0      0      0      1   \n",
      "2               1      2104   812500.0      0      0      0      1   \n",
      "3               2      2184   380000.0      1      0      0      0   \n",
      "4               1      1705   373865.0      0      1      0      0   \n",
      "..            ...       ...        ...    ...    ...    ...    ...   \n",
      "235             2      2949   675000.0      1      0      0      0   \n",
      "236             1      1578   310000.0      0      1      0      0   \n",
      "237             1      2046   439975.0      0      1      0      0   \n",
      "238             2      2096   486250.0      1      0      0      0   \n",
      "239             2      3900  1032500.0      1      0      0      0   \n",
      "\n",
      "     SalePriceln  Tot_SQFTln  \n",
      "0      12.948010    7.688455  \n",
      "1      14.277671    7.760893  \n",
      "2      13.607871    7.651596  \n",
      "3      12.847927    7.688913  \n",
      "4      12.831650    7.441320  \n",
      "..           ...         ...  \n",
      "235    13.422468    7.989221  \n",
      "236    12.644328    7.363914  \n",
      "237    12.994473    7.623642  \n",
      "238    13.094478    7.647786  \n",
      "239    13.847494    8.268732  \n",
      "\n",
      "[240 rows x 15 columns]\n"
     ]
    }
   ],
   "source": [
    "# (a) \n",
    "# city zone dummy variables\n",
    "dummy = pd.get_dummies(fenc\n",
    "                       edata['City_zone'])\n",
    "fencedata = pd.concat([fencedata,dummy], axis=1)\n",
    "fencedata = fencedata.rename(columns = {\"1\":\"zone1\", \"2\":\"zone2\", \"3\":\"zone3\", \"4\":\"zone4\"})\n",
    "fencedata.columns = ['City_zone', 'HomeAge', 'No_Baths', 'No_Bedrooms', 'No_FirePlace', \\\n",
    "                     'No_GrageSpaces', 'No_LivingRms', 'Tot_SQFT', 'SalePrice', 'zone1', \\\n",
    "                     'zone2', 'zone3', 'zone4']\n",
    "print(fencedata)\n",
    "\n",
    "# log variables\n",
    "fencedata['SalePriceln'] = np.log(fencedata['SalePrice'])\n",
    "fencedata['Tot_SQFTln'] = np.log(fencedata['Tot_SQFT'])\n",
    "print(fencedata)"
   ]
  },
  {
   "cell_type": "code",
   "execution_count": 35,
   "id": "6e91621e",
   "metadata": {},
   "outputs": [],
   "source": [
    "# (b) \n",
    "# by just looking through the dataset, some intrinsic values the different housing \n",
    "# zone seem to have are that zone 1 houses appear to be on the cheaper side in terms \n",
    "# of sales prices while zone 4 houses are typically more expensive."
   ]
  },
  {
   "cell_type": "code",
   "execution_count": 36,
   "id": "968edf05",
   "metadata": {},
   "outputs": [
    {
     "name": "stdout",
     "output_type": "stream",
     "text": [
      "results.summary(): \n",
      "                            OLS Regression Results                            \n",
      "==============================================================================\n",
      "Dep. Variable:            SalePriceln   R-squared:                       0.871\n",
      "Model:                            OLS   Adj. R-squared:                  0.865\n",
      "Method:                 Least Squares   F-statistic:                     154.1\n",
      "Date:                Tue, 08 Mar 2022   Prob (F-statistic):           8.90e-96\n",
      "Time:                        16:07:50   Log-Likelihood:                 72.506\n",
      "No. Observations:                 240   AIC:                            -123.0\n",
      "Df Residuals:                     229   BIC:                            -84.72\n",
      "Df Model:                          10                                         \n",
      "Covariance Type:            nonrobust                                         \n",
      "==================================================================================\n",
      "                     coef    std err          t      P>|t|      [0.025      0.975]\n",
      "----------------------------------------------------------------------------------\n",
      "Intercept          8.5522      0.515     16.600      0.000       7.537       9.567\n",
      "Tot_SQFTln         0.7279      0.075      9.700      0.000       0.580       0.876\n",
      "HomeAge            0.0002      0.001      0.159      0.874      -0.002       0.003\n",
      "No_Baths           0.0009      0.026      0.034      0.973      -0.051       0.053\n",
      "No_Bedrooms       -0.0408      0.025     -1.605      0.110      -0.091       0.009\n",
      "No_FirePlace       0.1140      0.029      3.886      0.000       0.056       0.172\n",
      "No_GrageSpaces     0.0748      0.023      3.253      0.001       0.029       0.120\n",
      "No_LivingRms       0.0215      0.022      0.958      0.339      -0.023       0.066\n",
      "zone1             -1.2116      0.071    -17.038      0.000      -1.352      -1.071\n",
      "zone2             -1.2891      0.074    -17.336      0.000      -1.436      -1.143\n",
      "zone3             -0.6130      0.073     -8.365      0.000      -0.757      -0.469\n",
      "==============================================================================\n",
      "Omnibus:                       20.295   Durbin-Watson:                   2.068\n",
      "Prob(Omnibus):                  0.000   Jarque-Bera (JB):               46.614\n",
      "Skew:                           0.371   Prob(JB):                     7.55e-11\n",
      "Kurtosis:                       5.028   Cond. No.                     1.13e+03\n",
      "==============================================================================\n",
      "\n",
      "Notes:\n",
      "[1] Standard Errors assume that the covariance matrix of the errors is correctly specified.\n",
      "[2] The condition number is large, 1.13e+03. This might indicate that there are\n",
      "strong multicollinearity or other numerical problems.\n",
      "\n"
     ]
    }
   ],
   "source": [
    "# regression\n",
    "reg = smf.ols(formula='SalePriceln ~ Tot_SQFTln + HomeAge + No_Baths + \\\n",
    "                       No_Bedrooms + No_FirePlace + No_GrageSpaces + \\\n",
    "                       No_LivingRms + zone1 + zone2 + zone3', data=fencedata)\n",
    "results = reg.fit()\n",
    "print(f'results.summary(): \\n{results.summary()}\\n')\n",
    "\n",
    "# (c) \n",
    "# SalePriceln = 8.5522 + 0.7279*Tot_SQFTln + 0.0002*HomeAge + 0.0009*No_Baths +\n",
    "# -0.0408*No_Bedrooms + No_Bedrooms*No_FirePlace + 0.0748*No_GrageSpaces\n",
    "# 0.0215*No_LivingRms + -1.2116*zone1 + -1.2891*zone2 + -0.6130*zone3"
   ]
  },
  {
   "cell_type": "code",
   "execution_count": 63,
   "id": "e56cf229",
   "metadata": {},
   "outputs": [
    {
     "data": {
      "text/plain": [
       "Text(0.5, 0, 'u_hat')"
      ]
     },
     "execution_count": 63,
     "metadata": {},
     "output_type": "execute_result"
    },
    {
     "data": {
      "image/png": "[encoded data removed]",
      "text/plain": [
       "<Figure size 432x288 with 1 Axes>"
      ]
     },
     "metadata": {
      "needs_background": "light"
     },
     "output_type": "display_data"
    }
   ],
   "source": [
    "# plotting residuals \n",
    "u_hat = results.resid\n",
    "SalePrice_hat = results.fittedvalues\n",
    "plt.plot(u_hat, SalePrice_hat, color='firebrick', marker='o', linestyle='')\n",
    "plt.ylabel('SalePrice_hat')\n",
    "plt.xlabel('u_hat')\n",
    "\n",
    "# (d)\n",
    "# given that the smallest eigenvalue is basically zero, the regression notes say\n",
    "# there may be issues of stong multicollinearity, meaning two or more of the \n",
    "# coefficients are correlated with one another.\n",
    "\n",
    "# creating log coefficients of SalePriceln and Tot_SQFTln since they are continuous\n",
    "# terms should lead to no heteroskedasticity, which is confirmed by the random distribution\n",
    "# of the residuals and SalePrice fitted values below."
   ]
  },
  {
   "cell_type": "code",
   "execution_count": 49,
   "id": "1ff1a159",
   "metadata": {},
   "outputs": [
    {
     "name": "stdout",
     "output_type": "stream",
     "text": [
      "         variable        VIF\n",
      "0         HomeAge   2.934901\n",
      "1        No_Baths  32.917920\n",
      "2     No_Bedrooms  48.779260\n",
      "3    No_FirePlace   5.001637\n",
      "4  No_GrageSpaces  14.028107\n",
      "5    No_LivingRms  12.009781\n",
      "6        Tot_SQFT  45.848330\n",
      "7           zone1   8.201089\n",
      "8           zone2   7.293088\n",
      "9           zone3   1.992205\n"
     ]
    }
   ],
   "source": [
    "# calculate vif to test multicollinearity\n",
    "X = fencedata[['HomeAge', 'No_Baths', 'No_Bedrooms', 'No_FirePlace', 'No_GrageSpaces', \\\n",
    "               'No_LivingRms', 'Tot_SQFT', 'zone1', 'zone2', 'zone3']]\n",
    "vif_data = pd.DataFrame()\n",
    "vif_data[\"variable\"] = X.columns\n",
    "\n",
    "vif_data[\"VIF\"] = [variance_inflation_factor(X.values, i)\n",
    "                          for i in range(len(X.columns))]\n",
    "print(vif_data)\n",
    "\n",
    "# (e)\n",
    "# given the large vif values, there are strong multicollinearity just as the\n",
    "# regression notes predicted."
   ]
  },
  {
   "cell_type": "code",
   "execution_count": 50,
   "id": "cf8f7170",
   "metadata": {},
   "outputs": [
    {
     "name": "stdout",
     "output_type": "stream",
     "text": [
      "results.summary(): \n",
      "                            OLS Regression Results                            \n",
      "==============================================================================\n",
      "Dep. Variable:            SalePriceln   R-squared:                       0.822\n",
      "Model:                            OLS   Adj. R-squared:                  0.810\n",
      "Method:                 Least Squares   F-statistic:                     67.25\n",
      "Date:                Tue, 08 Mar 2022   Prob (F-statistic):           2.28e-35\n",
      "Time:                        16:20:27   Log-Likelihood:                 45.201\n",
      "No. Observations:                 110   AIC:                            -74.40\n",
      "Df Residuals:                     102   BIC:                            -52.80\n",
      "Df Model:                           7                                         \n",
      "Covariance Type:            nonrobust                                         \n",
      "==================================================================================\n",
      "                     coef    std err          t      P>|t|      [0.025      0.975]\n",
      "----------------------------------------------------------------------------------\n",
      "Intercept          3.9473      0.356     11.093      0.000       3.241       4.653\n",
      "Tot_SQFTln         0.6263      0.106      5.909      0.000       0.416       0.836\n",
      "HomeAge           -0.0088      0.003     -3.071      0.003      -0.014      -0.003\n",
      "No_Baths           0.0258      0.037      0.690      0.492      -0.048       0.100\n",
      "No_Bedrooms       -0.0187      0.032     -0.577      0.565      -0.083       0.046\n",
      "No_FirePlace       0.2032      0.042      4.837      0.000       0.120       0.287\n",
      "No_GrageSpaces     0.1095      0.034      3.211      0.002       0.042       0.177\n",
      "No_LivingRms       0.0339      0.028      1.214      0.227      -0.021       0.089\n",
      "City_zone          3.9473      0.356     11.093      0.000       3.241       4.653\n",
      "==============================================================================\n",
      "Omnibus:                       10.332   Durbin-Watson:                   1.736\n",
      "Prob(Omnibus):                  0.006   Jarque-Bera (JB):               23.245\n",
      "Skew:                          -0.202   Prob(JB):                     8.96e-06\n",
      "Kurtosis:                       5.215   Cond. No.                          inf\n",
      "==============================================================================\n",
      "\n",
      "Notes:\n",
      "[1] Standard Errors assume that the covariance matrix of the errors is correctly specified.\n",
      "[2] The smallest eigenvalue is      0. This might indicate that there are\n",
      "strong multicollinearity problems or that the design matrix is singular.\n",
      "\n",
      "results.summary(): \n",
      "                            OLS Regression Results                            \n",
      "==============================================================================\n",
      "Dep. Variable:            SalePriceln   R-squared:                       0.810\n",
      "Model:                            OLS   Adj. R-squared:                  0.794\n",
      "Method:                 Least Squares   F-statistic:                     51.75\n",
      "Date:                Tue, 08 Mar 2022   Prob (F-statistic):           5.27e-28\n",
      "Time:                        16:20:27   Log-Likelihood:                 73.928\n",
      "No. Observations:                  93   AIC:                            -131.9\n",
      "Df Residuals:                      85   BIC:                            -111.6\n",
      "Df Model:                           7                                         \n",
      "Covariance Type:            nonrobust                                         \n",
      "==================================================================================\n",
      "                     coef    std err          t      P>|t|      [0.025      0.975]\n",
      "----------------------------------------------------------------------------------\n",
      "Intercept          1.4870      0.104     14.335      0.000       1.281       1.693\n",
      "Tot_SQFTln         0.7514      0.081      9.265      0.000       0.590       0.913\n",
      "HomeAge           -0.0084      0.002     -3.820      0.000      -0.013      -0.004\n",
      "No_Baths          -0.0312      0.029     -1.086      0.280      -0.088       0.026\n",
      "No_Bedrooms       -0.0490      0.030     -1.650      0.103      -0.108       0.010\n",
      "No_FirePlace       0.0834      0.032      2.596      0.011       0.020       0.147\n",
      "No_GrageSpaces     0.0594      0.030      2.003      0.048       0.000       0.118\n",
      "No_LivingRms      -0.0627      0.026     -2.419      0.018      -0.114      -0.011\n",
      "City_zone          2.9741      0.207     14.335      0.000       2.562       3.387\n",
      "==============================================================================\n",
      "Omnibus:                       60.903   Durbin-Watson:                   2.148\n",
      "Prob(Omnibus):                  0.000   Jarque-Bera (JB):              433.789\n",
      "Skew:                           1.901   Prob(JB):                     6.37e-95\n",
      "Kurtosis:                      12.873   Cond. No.                          inf\n",
      "==============================================================================\n",
      "\n",
      "Notes:\n",
      "[1] Standard Errors assume that the covariance matrix of the errors is correctly specified.\n",
      "[2] The smallest eigenvalue is      0. This might indicate that there are\n",
      "strong multicollinearity problems or that the design matrix is singular.\n",
      "\n",
      "results.summary(): \n",
      "                            OLS Regression Results                            \n",
      "==============================================================================\n",
      "Dep. Variable:            SalePriceln   R-squared:                       0.266\n",
      "Model:                            OLS   Adj. R-squared:                 -0.174\n",
      "Method:                 Least Squares   F-statistic:                    0.6046\n",
      "Date:                Tue, 08 Mar 2022   Prob (F-statistic):              0.722\n",
      "Time:                        16:20:27   Log-Likelihood:                 6.1992\n",
      "No. Observations:                  17   AIC:                             1.602\n",
      "Df Residuals:                      10   BIC:                             7.434\n",
      "Df Model:                           6                                         \n",
      "Covariance Type:            nonrobust                                         \n",
      "==================================================================================\n",
      "                     coef    std err          t      P>|t|      [0.025      0.975]\n",
      "----------------------------------------------------------------------------------\n",
      "Intercept          1.1057      0.284      3.889      0.003       0.472       1.739\n",
      "Tot_SQFTln         0.2773      0.404      0.687      0.508      -0.622       1.176\n",
      "HomeAge            0.0016      0.005      0.331      0.748      -0.009       0.012\n",
      "No_Baths           0.0099      0.145      0.068      0.947      -0.314       0.334\n",
      "No_Bedrooms       -0.0761      0.095     -0.799      0.443      -0.288       0.136\n",
      "No_FirePlace    2.631e-17   2.73e-17      0.963      0.358   -3.45e-17    8.72e-17\n",
      "No_GrageSpaces     0.0887      0.119      0.746      0.473      -0.176       0.353\n",
      "No_LivingRms       0.0671      0.153      0.440      0.670      -0.273       0.407\n",
      "City_zone          3.3171      0.853      3.889      0.003       1.416       5.218\n",
      "==============================================================================\n",
      "Omnibus:                        0.150   Durbin-Watson:                   2.266\n",
      "Prob(Omnibus):                  0.928   Jarque-Bera (JB):                0.315\n",
      "Skew:                          -0.172   Prob(JB):                        0.854\n",
      "Kurtosis:                       2.429   Cond. No.                     6.89e+18\n",
      "==============================================================================\n",
      "\n",
      "Notes:\n",
      "[1] Standard Errors assume that the covariance matrix of the errors is correctly specified.\n",
      "[2] The smallest eigenvalue is 1.18e-33. This might indicate that there are\n",
      "strong multicollinearity problems or that the design matrix is singular.\n",
      "\n",
      "results.summary(): \n",
      "                            OLS Regression Results                            \n",
      "==============================================================================\n",
      "Dep. Variable:            SalePriceln   R-squared:                       0.683\n",
      "Model:                            OLS   Adj. R-squared:                  0.497\n",
      "Method:                 Least Squares   F-statistic:                     3.686\n",
      "Date:                Tue, 08 Mar 2022   Prob (F-statistic):             0.0232\n",
      "Time:                        16:20:27   Log-Likelihood:                 4.1578\n",
      "No. Observations:                  20   AIC:                             7.684\n",
      "Df Residuals:                      12   BIC:                             15.65\n",
      "Df Model:                           7                                         \n",
      "Covariance Type:            nonrobust                                         \n",
      "==================================================================================\n",
      "                     coef    std err          t      P>|t|      [0.025      0.975]\n",
      "----------------------------------------------------------------------------------\n",
      "Intercept          0.7401      0.242      3.058      0.010       0.213       1.267\n",
      "Tot_SQFTln         0.1043      0.630      0.166      0.871      -1.268       1.476\n",
      "HomeAge            0.0008      0.003      0.246      0.810      -0.006       0.007\n",
      "No_Baths           0.0960      0.158      0.607      0.555      -0.249       0.441\n",
      "No_Bedrooms        0.0891      0.178      0.501      0.625      -0.298       0.476\n",
      "No_FirePlace       0.2350      0.102      2.300      0.040       0.012       0.458\n",
      "No_GrageSpaces    -0.0452      0.070     -0.643      0.532      -0.198       0.108\n",
      "No_LivingRms       0.0832      0.140      0.594      0.564      -0.222       0.388\n",
      "City_zone          2.9605      0.968      3.058      0.010       0.851       5.070\n",
      "==============================================================================\n",
      "Omnibus:                        1.104   Durbin-Watson:                   1.064\n",
      "Prob(Omnibus):                  0.576   Jarque-Bera (JB):                0.419\n",
      "Skew:                           0.352   Prob(JB):                        0.811\n",
      "Kurtosis:                       3.080   Cond. No.                     1.70e+17\n",
      "==============================================================================\n",
      "\n",
      "Notes:\n",
      "[1] Standard Errors assume that the covariance matrix of the errors is correctly specified.\n",
      "[2] The smallest eigenvalue is 2.41e-30. This might indicate that there are\n",
      "strong multicollinearity problems or that the design matrix is singular.\n",
      "\n"
     ]
    },
    {
     "name": "stderr",
     "output_type": "stream",
     "text": [
      "/Users/zoeyroberts/opt/anaconda3/lib/python3.8/site-packages/statsmodels/regression/linear_model.py:1860: RuntimeWarning: divide by zero encountered in double_scalars\n",
      "  return np.sqrt(eigvals[0]/eigvals[-1])\n",
      "/Users/zoeyroberts/opt/anaconda3/lib/python3.8/site-packages/statsmodels/regression/linear_model.py:1860: RuntimeWarning: divide by zero encountered in double_scalars\n",
      "  return np.sqrt(eigvals[0]/eigvals[-1])\n",
      "/Users/zoeyroberts/opt/anaconda3/lib/python3.8/site-packages/scipy/stats/stats.py:1541: UserWarning: kurtosistest only valid for n>=20 ... continuing anyway, n=17\n",
      "  warnings.warn(\"kurtosistest only valid for n>=20 ... continuing \"\n"
     ]
    }
   ],
   "source": [
    "# regression for zone 1\n",
    "reg = smf.ols(formula= 'SalePriceln ~ Tot_SQFTln + HomeAge + No_Baths + \\\n",
    "                       No_Bedrooms + No_FirePlace + No_GrageSpaces + \\\n",
    "                       No_LivingRms + City_zone', data=fencedata, \n",
    "             subset=(fencedata['City_zone'] == 1))\n",
    "results = reg.fit()\n",
    "print(f'results.summary(): \\n{results.summary()}\\n')\n",
    "\n",
    "reg = smf.ols(formula= 'SalePriceln ~ Tot_SQFTln + HomeAge + No_Baths + \\\n",
    "                       No_Bedrooms + No_FirePlace + No_GrageSpaces + \\\n",
    "                       No_LivingRms + City_zone', data=fencedata, \n",
    "             subset=(fencedata['City_zone'] == 2))\n",
    "results = reg.fit()\n",
    "print(f'results.summary(): \\n{results.summary()}\\n')\n",
    "\n",
    "reg = smf.ols(formula= 'SalePriceln ~ Tot_SQFTln + HomeAge + No_Baths + \\\n",
    "                       No_Bedrooms + No_FirePlace + No_GrageSpaces + \\\n",
    "                       No_LivingRms + City_zone', data=fencedata, \n",
    "             subset=(fencedata['City_zone'] == 3))\n",
    "results = reg.fit()\n",
    "print(f'results.summary(): \\n{results.summary()}\\n')\n",
    "\n",
    "reg = smf.ols(formula= 'SalePriceln ~ Tot_SQFTln + HomeAge + No_Baths + \\\n",
    "                       No_Bedrooms + No_FirePlace + No_GrageSpaces + \\\n",
    "                       No_LivingRms + City_zone', data=fencedata, \n",
    "             subset=(fencedata['City_zone'] == 4))\n",
    "results = reg.fit()\n",
    "print(f'results.summary(): \\n{results.summary()}\\n')\n",
    "\n",
    "# (f) \n",
    "# the model pooling all city zone into one model with dummy variables is better than separating \n",
    "# each zone using multiple regressions because while the subset regressions of city zones 1 and 2\n",
    "# have a decent number of statistically significant variables and relatively high adjusted\n",
    "# r-squared values, the subset regressions of city zone 3 and 4 are either negative or much\n",
    "# lower in comparison to the others and also have much fewer significant variables."
   ]
  },
  {
   "cell_type": "code",
   "execution_count": 51,
   "id": "41506c92",
   "metadata": {},
   "outputs": [],
   "source": [
    "# (g) \n",
    "# i selected the pooling model with dummy variables as the best because it has an impressive \n",
    "# adjusted r-squared of 0.865, which means 86.5 percent of the variance in SalePricesln\n",
    "# is explained by all the independent variables in the regression.\n",
    "\n",
    "# additionally, there are seven statistically significant variables in the model.\n",
    "\n",
    "# although, the pooling model warns of multicollinearity problems, the subset regression \n",
    "# models also contain similar statememts, so this does not make them any superior to the\n",
    "# original pooling model."
   ]
  },
  {
   "cell_type": "code",
   "execution_count": 52,
   "id": "7544b6cf",
   "metadata": {},
   "outputs": [],
   "source": [
    "# (h) \n",
    "# all parameters are linear and accounted for given the adjustments made of \n",
    "# transforming PriceSales and Tot_SQFT into log coefficients.\n",
    "\n",
    "# while there are signs of multicollinearity in the regression results, the pooling\n",
    "# model cannot have perfect multicollinearity because otherwise the coefficient would \n",
    "# not have estimated values.\n",
    "\n",
    "# heteroskedasticity was tested for by creating log coefficients for the continuous \n",
    "# variables as well as examining a scatter plot of the regressions residuals and the \n",
    "# SalePrice fitted values.\n",
    "\n",
    "# endongeneity should also not be an issue due to the model being quite comprehensive\n",
    "# by accounting for affecting factors such as home age, size, location in town, etc. "
   ]
  },
  {
   "cell_type": "code",
   "execution_count": 106,
   "id": "a1fcad79",
   "metadata": {},
   "outputs": [
    {
     "name": "stdout",
     "output_type": "stream",
     "text": [
      "results.summary(): \n",
      "                            OLS Regression Results                            \n",
      "==============================================================================\n",
      "Dep. Variable:            SalePriceln   R-squared:                       0.871\n",
      "Model:                            OLS   Adj. R-squared:                  0.865\n",
      "Method:                 Least Squares   F-statistic:                     154.1\n",
      "Date:                Tue, 08 Mar 2022   Prob (F-statistic):           8.90e-96\n",
      "Time:                        17:34:16   Log-Likelihood:                 72.506\n",
      "No. Observations:                 240   AIC:                            -123.0\n",
      "Df Residuals:                     229   BIC:                            -84.72\n",
      "Df Model:                          10                                         \n",
      "Covariance Type:            nonrobust                                         \n",
      "==================================================================================\n",
      "                     coef    std err          t      P>|t|      [0.025      0.975]\n",
      "----------------------------------------------------------------------------------\n",
      "Intercept          8.5522      0.515     16.600      0.000       7.537       9.567\n",
      "Tot_SQFTln         0.7279      0.075      9.700      0.000       0.580       0.876\n",
      "HomeAge            0.0002      0.001      0.159      0.874      -0.002       0.003\n",
      "No_Baths           0.0009      0.026      0.034      0.973      -0.051       0.053\n",
      "No_Bedrooms       -0.0408      0.025     -1.605      0.110      -0.091       0.009\n",
      "No_FirePlace       0.1140      0.029      3.886      0.000       0.056       0.172\n",
      "No_GrageSpaces     0.0748      0.023      3.253      0.001       0.029       0.120\n",
      "No_LivingRms       0.0215      0.022      0.958      0.339      -0.023       0.066\n",
      "zone1             -1.2116      0.071    -17.038      0.000      -1.352      -1.071\n",
      "zone2             -1.2891      0.074    -17.336      0.000      -1.436      -1.143\n",
      "zone3             -0.6130      0.073     -8.365      0.000      -0.757      -0.469\n",
      "==============================================================================\n",
      "Omnibus:                       20.295   Durbin-Watson:                   2.068\n",
      "Prob(Omnibus):                  0.000   Jarque-Bera (JB):               46.614\n",
      "Skew:                           0.371   Prob(JB):                     7.55e-11\n",
      "Kurtosis:                       5.028   Cond. No.                     1.13e+03\n",
      "==============================================================================\n",
      "\n",
      "Notes:\n",
      "[1] Standard Errors assume that the covariance matrix of the errors is correctly specified.\n",
      "[2] The condition number is large, 1.13e+03. This might indicate that there are\n",
      "strong multicollinearity or other numerical problems.\n",
      "\n",
      "X: \n",
      "   No_Baths  Tot_SQFTln    HomeAge  No_Bedrooms  No_FirePlace  No_GrageSpaces  \\\n",
      "0      1.00    7.574388  15.554167     3.433333      0.741667        1.816667   \n",
      "1      1.75    7.574388  15.554167     3.433333      0.741667        1.816667   \n",
      "2      2.50    7.574388  15.554167     3.433333      0.741667        1.816667   \n",
      "3      3.25    7.574388  15.554167     3.433333      0.741667        1.816667   \n",
      "4      4.00    7.574388  15.554167     3.433333      0.741667        1.816667   \n",
      "\n",
      "   No_LivingRms     zone1   zone2     zone3  \n",
      "0      1.620833  0.458333  0.3875  0.070833  \n",
      "1      1.620833  0.458333  0.3875  0.070833  \n",
      "2      1.620833  0.458333  0.3875  0.070833  \n",
      "3      1.620833  0.458333  0.3875  0.070833  \n",
      "4      1.620833  0.458333  0.3875  0.070833  \n",
      "\n",
      "CI: \n",
      "        mean  mean_ci_lower  mean_ci_upper\n",
      "0  13.086540      13.004008      13.169073\n",
      "1  13.087215      13.040539      13.133891\n",
      "2  13.087890      13.064535      13.111244\n",
      "3  13.088565      13.044838      13.132291\n",
      "4  13.089239      13.010003      13.168475\n",
      "\n"
     ]
    },
    {
     "data": {
      "text/plain": [
       "<matplotlib.legend.Legend at 0x7fac61916ee0>"
      ]
     },
     "execution_count": 106,
     "metadata": {},
     "output_type": "execute_result"
    },
    {
     "data": {
      "image/png": "[encoded data removed]",
      "text/plain": [
       "<Figure size 432x288 with 1 Axes>"
      ]
     },
     "metadata": {
      "needs_background": "light"
     },
     "output_type": "display_data"
    }
   ],
   "source": [
    "# (i)\n",
    "# rerun chosen model\n",
    "reg = smf.ols(formula='SalePriceln ~ Tot_SQFTln + HomeAge + No_Baths + \\\n",
    "                       No_Bedrooms + No_FirePlace + No_GrageSpaces + \\\n",
    "                       No_LivingRms + zone1 + zone2 + zone3', data=fencedata)\n",
    "results = reg.fit()\n",
    "print(f'results.summary(): \\n{results.summary()}\\n')\n",
    "\n",
    "# set all variables (besides No_baths) at their mean values\n",
    "Tot_SQFTln_mean = np.mean(fencedata['Tot_SQFTln'])\n",
    "HomeAge_mean = np.mean(fencedata['HomeAge'])\n",
    "No_Bedrooms_mean = np.mean(fencedata['No_Bedrooms'])\n",
    "No_FirePlace_mean = np.mean(fencedata['No_FirePlace'])\n",
    "No_GrageSpaces_mean = np.mean(fencedata['No_GrageSpaces'])\n",
    "No_LivingRms_mean = np.mean(fencedata['No_LivingRms'])\n",
    "zone1_mean = np.mean(fencedata['zone1'])\n",
    "zone2_mean = np.mean(fencedata['zone2'])\n",
    "zone3_mean = np.mean(fencedata['zone3'])\n",
    "F = pd.DataFrame({'No_Baths': np.linspace(1, 4, num=5),\n",
    "                  'Tot_SQFTln': Tot_SQFTln_mean,\n",
    "                  'HomeAge': HomeAge_mean,\n",
    "                  'No_Bedrooms': No_Bedrooms_mean,\n",
    "                  'No_FirePlace': No_FirePlace_mean,\n",
    "                  'No_GrageSpaces': No_GrageSpaces_mean, \n",
    "                  'No_LivingRms': No_LivingRms_mean,\n",
    "                  'zone1': zone1_mean,\n",
    "                  'zone2': zone2_mean,\n",
    "                  'zone3': zone3_mean})    \n",
    "print(f'X: \\n{F}\\n')\n",
    "\n",
    "# 95% confidence intervals\n",
    "PICI = results.get_prediction(F).summary_frame(alpha=0.05)\n",
    "CI = PICI[['mean', 'mean_ci_lower', 'mean_ci_upper']]\n",
    "print(f'CI: \\n{CI}\\n')\n",
    "\n",
    "# plot \n",
    "plt.plot(F['No_Baths'], CI['mean'], color='coral',\n",
    "         linestyle='-', label='')\n",
    "plt.plot(F['No_Baths'], CI['mean_ci_upper'], color='steelblue',\n",
    "         linestyle='--', label='upper CI')\n",
    "plt.plot(F['No_Baths'], CI['mean'], color='gold',\n",
    "         linestyle='--', label='lower CI')\n",
    "plt.ylabel('SalePriceln')\n",
    "plt.xlabel('No_Baths')\n",
    "plt.legend()"
   ]
  },
  {
   "cell_type": "code",
   "execution_count": 2,
   "id": "3914c33b",
   "metadata": {},
   "outputs": [],
   "source": [
    "# (j)\n",
    "# all parameters are linear and accounted for given the adjustments made of \n",
    "# transforming PriceSales and Tot_SQFT into log coefficients.\n",
    "\n",
    "# while there are signs of multicollinearity in the regression results, the pooling\n",
    "# model cannot have perfect multicollinearity because otherwise the coefficient would \n",
    "# not have estimated values.\n",
    "\n",
    "# heteroskedasticity was tested for by creating log coefficients for the continuous \n",
    "# variables as well as examining a scatter plot of the regressions residuals and the \n",
    "# SalePrice fitted values.\n",
    "\n",
    "# endongeneity should also not be an issue due to the model being quite comprehensive\n",
    "# by accounting for affecting factors such as home age, size, location in town, etc. "
   ]
  },
  {
   "cell_type": "code",
   "execution_count": 120,
   "id": "a05607ed",
   "metadata": {},
   "outputs": [
    {
     "name": "stdout",
     "output_type": "stream",
     "text": [
      "results.summary(): \n",
      "                            OLS Regression Results                            \n",
      "==============================================================================\n",
      "Dep. Variable:            SalePriceln   R-squared:                       0.871\n",
      "Model:                            OLS   Adj. R-squared:                  0.865\n",
      "Method:                 Least Squares   F-statistic:                     154.1\n",
      "Date:                Tue, 08 Mar 2022   Prob (F-statistic):           8.90e-96\n",
      "Time:                        18:27:46   Log-Likelihood:                 72.506\n",
      "No. Observations:                 240   AIC:                            -123.0\n",
      "Df Residuals:                     229   BIC:                            -84.72\n",
      "Df Model:                          10                                         \n",
      "Covariance Type:            nonrobust                                         \n",
      "==================================================================================\n",
      "                     coef    std err          t      P>|t|      [0.025      0.975]\n",
      "----------------------------------------------------------------------------------\n",
      "Intercept          8.5522      0.515     16.600      0.000       7.537       9.567\n",
      "Tot_SQFTln         0.7279      0.075      9.700      0.000       0.580       0.876\n",
      "HomeAge            0.0002      0.001      0.159      0.874      -0.002       0.003\n",
      "No_Baths           0.0009      0.026      0.034      0.973      -0.051       0.053\n",
      "No_Bedrooms       -0.0408      0.025     -1.605      0.110      -0.091       0.009\n",
      "No_FirePlace       0.1140      0.029      3.886      0.000       0.056       0.172\n",
      "No_GrageSpaces     0.0748      0.023      3.253      0.001       0.029       0.120\n",
      "No_LivingRms       0.0215      0.022      0.958      0.339      -0.023       0.066\n",
      "zone1             -1.2116      0.071    -17.038      0.000      -1.352      -1.071\n",
      "zone2             -1.2891      0.074    -17.336      0.000      -1.436      -1.143\n",
      "zone3             -0.6130      0.073     -8.365      0.000      -0.757      -0.469\n",
      "==============================================================================\n",
      "Omnibus:                       20.295   Durbin-Watson:                   2.068\n",
      "Prob(Omnibus):                  0.000   Jarque-Bera (JB):               46.614\n",
      "Skew:                           0.371   Prob(JB):                     7.55e-11\n",
      "Kurtosis:                       5.028   Cond. No.                     1.13e+03\n",
      "==============================================================================\n",
      "\n",
      "Notes:\n",
      "[1] Standard Errors assume that the covariance matrix of the errors is correctly specified.\n",
      "[2] The condition number is large, 1.13e+03. This might indicate that there are\n",
      "strong multicollinearity or other numerical problems.\n",
      "\n",
      "bootstrap_res.summary(): \n",
      "                            OLS Regression Results                            \n",
      "==============================================================================\n",
      "Dep. Variable:            SalePriceln   R-squared:                       0.863\n",
      "Model:                            OLS   Adj. R-squared:                  0.857\n",
      "Method:                 Least Squares   F-statistic:                     144.3\n",
      "Date:                Tue, 08 Mar 2022   Prob (F-statistic):           5.95e-93\n",
      "Time:                        18:27:56   Log-Likelihood:                 78.757\n",
      "No. Observations:                 240   AIC:                            -135.5\n",
      "Df Residuals:                     229   BIC:                            -97.23\n",
      "Df Model:                          10                                         \n",
      "Covariance Type:            nonrobust                                         \n",
      "==================================================================================\n",
      "                     coef    std err          t      P>|t|      [0.025      0.975]\n",
      "----------------------------------------------------------------------------------\n",
      "Intercept          8.9013      0.498     17.872      0.000       7.920       9.883\n",
      "Tot_SQFTln         0.6795      0.074      9.207      0.000       0.534       0.825\n",
      "HomeAge            0.0017      0.001      1.528      0.128      -0.000       0.004\n",
      "No_Baths           0.0428      0.025      1.700      0.090      -0.007       0.092\n",
      "No_Bedrooms       -0.0745      0.024     -3.084      0.002      -0.122      -0.027\n",
      "No_FirePlace       0.1198      0.029      4.123      0.000       0.063       0.177\n",
      "No_GrageSpaces     0.1011      0.022      4.638      0.000       0.058       0.144\n",
      "No_LivingRms       0.0189      0.022      0.876      0.382      -0.024       0.061\n",
      "zone1             -1.2515      0.072    -17.352      0.000      -1.394      -1.109\n",
      "zone2             -1.3319      0.075    -17.826      0.000      -1.479      -1.185\n",
      "zone3             -0.7592      0.066    -11.443      0.000      -0.890      -0.628\n",
      "==============================================================================\n",
      "Omnibus:                       17.693   Durbin-Watson:                   1.996\n",
      "Prob(Omnibus):                  0.000   Jarque-Bera (JB):               31.749\n",
      "Skew:                           0.404   Prob(JB):                     1.28e-07\n",
      "Kurtosis:                       4.588   Cond. No.                     1.18e+03\n",
      "==============================================================================\n",
      "\n",
      "Notes:\n",
      "[1] Standard Errors assume that the covariance matrix of the errors is correctly specified.\n",
      "[2] The condition number is large, 1.18e+03. This might indicate that there are\n",
      "strong multicollinearity or other numerical problems.\n",
      "\n"
     ]
    }
   ],
   "source": [
    "fencereg = smf.ols(formula='SalePriceln ~ Tot_SQFTln + HomeAge + No_Baths + \\\n",
    "                    No_Bedrooms + No_FirePlace + No_GrageSpaces + No_LivingRms \\\n",
    "                    + zone1 + zone2 + zone3', data=fencedata)\n",
    "results = fencereg.fit()\n",
    "print (f'results.summary(): \\n{results.summary()}\\n')\n",
    "\n",
    "num_samples = 1000\n",
    "betas = []\n",
    "\n",
    "for i in range(num_samples):\n",
    "    bootstrap = fencedata.sample(n=240, replace=True, axis=0)\n",
    "    fencereg2 = smf.ols(formula='SalePriceln ~ Tot_SQFTln + HomeAge + No_Baths + \\\n",
    "                    No_Bedrooms + No_FirePlace + No_GrageSpaces + No_LivingRms \\\n",
    "                    + zone1 + zone2 + zone3', data=bootstrap)\n",
    "    betas.append(fencereg2.fit().params)\n",
    "\n",
    "bootstrap_res= fencereg2.fit()\n",
    "print(f'bootstrap_res.summary(): \\n{bootstrap_res.summary()}\\n')"
   ]
  },
  {
   "cell_type": "code",
   "execution_count": 122,
   "id": "8d388511",
   "metadata": {},
   "outputs": [
    {
     "data": {
      "image/png": "[encoded data removed]",
      "text/plain": [
       "<Figure size 432x288 with 1 Axes>"
      ]
     },
     "metadata": {
      "needs_background": "light"
     },
     "output_type": "display_data"
    },
    {
     "data": {
      "image/png": "[encoded data removed]",
      "text/plain": [
       "<Figure size 432x288 with 1 Axes>"
      ]
     },
     "metadata": {
      "needs_background": "light"
     },
     "output_type": "display_data"
    },
    {
     "data": {
      "image/png": "[encoded data removed]",
      "text/plain": [
       "<Figure size 432x288 with 1 Axes>"
      ]
     },
     "metadata": {
      "needs_background": "light"
     },
     "output_type": "display_data"
    },
    {
     "data": {
      "image/png": "[encoded data removed]",
      "text/plain": [
       "<Figure size 432x288 with 1 Axes>"
      ]
     },
     "metadata": {
      "needs_background": "light"
     },
     "output_type": "display_data"
    },
    {
     "data": {
      "image/png": "[encoded data removed]",
      "text/plain": [
       "<Figure size 432x288 with 1 Axes>"
      ]
     },
     "metadata": {
      "needs_background": "light"
     },
     "output_type": "display_data"
    },
    {
     "data": {
      "image/png": "[encoded data removed]",
      "text/plain": [
       "<Figure size 432x288 with 1 Axes>"
      ]
     },
     "metadata": {
      "needs_background": "light"
     },
     "output_type": "display_data"
    },
    {
     "data": {
      "image/png": "[encoded data removed]",
      "text/plain": [
       "<Figure size 432x288 with 1 Axes>"
      ]
     },
     "metadata": {
      "needs_background": "light"
     },
     "output_type": "display_data"
    },
    {
     "data": {
      "image/png": "[encoded data removed]",
      "text/plain": [
       "<Figure size 432x288 with 1 Axes>"
      ]
     },
     "metadata": {
      "needs_background": "light"
     },
     "output_type": "display_data"
    },
    {
     "data": {
      "image/png": "[encoded data removed]",
      "text/plain": [
       "<Figure size 432x288 with 1 Axes>"
      ]
     },
     "metadata": {
      "needs_background": "light"
     },
     "output_type": "display_data"
    },
    {
     "data": {
      "image/png": "[encoded data removed]",
      "text/plain": [
       "<Figure size 432x288 with 1 Axes>"
      ]
     },
     "metadata": {
      "needs_background": "light"
     },
     "output_type": "display_data"
    },
    {
     "data": {
      "image/png": "[encoded data removed]",
      "text/plain": [
       "<Figure size 432x288 with 1 Axes>"
      ]
     },
     "metadata": {
      "needs_background": "light"
     },
     "output_type": "display_data"
    }
   ],
   "source": [
    "results_array = np.array(betas)\n",
    "plt.hist(results_array[:,0], density=True, bins=50)\n",
    "plt.ylabel('Probability')\n",
    "plt.xlabel('Intercept')\n",
    "Intercept_range = np.linspace(6, 11, num=100)\n",
    "pdf = stats.norm.pdf(Intercept_range, 8.552, .515)\n",
    "plt.plot(Intercept_range, pdf, linestyle='-', color='orange')\n",
    "plt.show()\n",
    "\n",
    "plt.hist(results_array[:,1], density=True, bins=50)\n",
    "plt.ylabel('Probability')\n",
    "plt.xlabel('Tot_SQFTln')\n",
    "Tot_SQFTln_range = np.linspace(.4, 1, num=100)\n",
    "pdf = stats.norm.pdf(Tot_SQFTln_range, .7279, .075)\n",
    "plt.plot(Tot_SQFTln_range, pdf, linestyle='-', color='orange')\n",
    "plt.show()\n",
    "\n",
    "plt.hist(results_array[:,2], density=True, bins=50)\n",
    "plt.ylabel('Probability')\n",
    "plt.xlabel('HomeAge')\n",
    "HomeAge_range = np.linspace(-.01, .004, num=100)\n",
    "pdf = stats.norm.pdf(HomeAge_range, 0.0002, 0.001)\n",
    "plt.plot(HomeAge_range, pdf, linestyle='-', color='orange')\n",
    "plt.show()\n",
    "\n",
    "plt.hist(results_array[:,3], density=True, bins=50)\n",
    "plt.ylabel('Probability')\n",
    "plt.xlabel('No_Baths')\n",
    "No_Baths_range = np.linspace(-.15, .09, num=100)\n",
    "pdf = stats.norm.pdf(No_Baths_range, .0009, .026)\n",
    "plt.plot(No_Baths_range, pdf, linestyle='-', color='orange')\n",
    "plt.show()\n",
    "\n",
    "\n",
    "plt.hist(results_array[:,4], density=True, bins=50)\n",
    "plt.ylabel('Probability')\n",
    "plt.xlabel('No_Bedrooms')\n",
    "No_Bedrooms_range = np.linspace(-.125, .06, num=100)\n",
    "pdf = stats.norm.pdf(No_Bedrooms_range, -.0408, .025)\n",
    "plt.plot(No_Bedrooms_range, pdf, linestyle='-', color='orange')\n",
    "plt.show()\n",
    "\n",
    "plt.hist(results_array[:,5], density=True, bins=50)\n",
    "plt.ylabel('Probability')\n",
    "plt.xlabel('No_FirePlace')\n",
    "No_FirePlace_range = np.linspace(0, .25, num=100)\n",
    "pdf = stats.norm.pdf(No_FirePlace_range, .1140, .029)\n",
    "plt.plot(No_FirePlace_range, pdf, linestyle='-', color='orange')\n",
    "plt.show()\n",
    "\n",
    "plt.hist(results_array[:,6], density=True, bins=50)\n",
    "plt.ylabel('Probability')\n",
    "plt.xlabel('No_GrageSpaces')\n",
    "No_GrageSpaces_range = np.linspace(-.025, .2, num=100)\n",
    "pdf = stats.norm.pdf(No_GrageSpaces_range, .0748, .023)\n",
    "plt.plot(No_GrageSpaces_range, pdf, linestyle='-', color='orange')\n",
    "plt.show()\n",
    "\n",
    "plt.hist(results_array[:,7], density=True, bins=50)\n",
    "plt.ylabel('Probability')\n",
    "plt.xlabel('No_LivingRms')\n",
    "No_LivingRms_range = np.linspace(-.05, .09, num=100)\n",
    "pdf = stats.norm.pdf(No_LivingRms_range, .0215, .022)\n",
    "plt.plot(No_LivingRms_range, pdf, linestyle='-', color='orange')\n",
    "plt.show()\n",
    "\n",
    "plt.hist(results_array[:,8], density=True, bins=50)\n",
    "plt.ylabel('Probability')\n",
    "plt.xlabel('zone1')\n",
    "zone1_range = np.linspace(-1.7, -.08, num=100)\n",
    "pdf = stats.norm.pdf(zone1_range, -1.2116, .071)\n",
    "plt.plot(zone1_range, pdf, linestyle='-', color='orange')\n",
    "plt.show()\n",
    "\n",
    "plt.hist(results_array[:,9], density=True, bins=50)\n",
    "plt.ylabel('Probability')\n",
    "plt.xlabel('zone2')\n",
    "zone2_range = np.linspace(-1.8, -1, num=100)\n",
    "pdf = stats.norm.pdf(zone2_range, -1.2891, .074)\n",
    "plt.plot(zone2_range, pdf, linestyle='-', color='orange')\n",
    "plt.show()\n",
    "\n",
    "plt.hist(results_array[:,10], density=True, bins=50)\n",
    "plt.ylabel('Probability')\n",
    "plt.xlabel('zone3')\n",
    "zone3_range = np.linspace(-1.8, -.1, num=100)\n",
    "pdf = stats.norm.pdf(zone3_range, -.6130, .073)\n",
    "plt.plot(zone3_range, pdf, linestyle='-', color='orange')\n",
    "plt.show()"
   ]
  },
  {
   "cell_type": "code",
   "execution_count": null,
   "id": "07fcaffb",
   "metadata": {},
   "outputs": [],
   "source": [
    "# (k) \n",
    "# given my histograms with overlayed pdf curves i have little to no conerns\n",
    "# with the model.\n",
    "\n",
    "# the normal pdf distribution curves fit the coefficients relatively well, meaning\n",
    "# OLS assumption one of linearity is upheld and i can continue to use p-values\n",
    "# to determine the significance of my coefficents."
   ]
  },
  {
   "cell_type": "code",
   "execution_count": 76,
   "id": "4b9c4a1c",
   "metadata": {},
   "outputs": [],
   "source": [
    "# (l) \n",
    "# i would recommend the remodeling projects of adding an expansion based on  \n",
    "# Tot_SQFTln coefficient's significant value of 0.6795 as well as \n",
    "# adding fireplaces since No_Fireplace has a significant coefficient of 0.1198.\n",
    "\n",
    "# garage spaces are also key as its coefficient of 0.0748 is significant.\n",
    "\n",
    "# additionally, given that zones 1, 2, and 3 all have significant and negative coefficients,\n",
    "# and zone 4 is included in the intercept calculation when the other three dummy variables \n",
    "# equal zero, one can conclude that it is the best zone to live in, so people should \n",
    "# invest in property in that area."
   ]
  },
  {
   "cell_type": "code",
   "execution_count": 77,
   "id": "34a98d7b",
   "metadata": {},
   "outputs": [],
   "source": [
    "# question 4"
   ]
  },
  {
   "cell_type": "code",
   "execution_count": 123,
   "id": "564862a1",
   "metadata": {},
   "outputs": [],
   "source": [
    "# (i) \n",
    "# if there is discrimination against minorities, and the appropriate factors \n",
    "# have been controlled for, the sign of B1 is positive."
   ]
  },
  {
   "cell_type": "code",
   "execution_count": 126,
   "id": "244e6454",
   "metadata": {},
   "outputs": [
    {
     "name": "stdout",
     "output_type": "stream",
     "text": [
      "results.summary(): \n",
      "                            OLS Regression Results                            \n",
      "==============================================================================\n",
      "Dep. Variable:                approve   R-squared:                       0.049\n",
      "Model:                            OLS   Adj. R-squared:                  0.048\n",
      "Method:                 Least Squares   F-statistic:                     102.2\n",
      "Date:                Tue, 08 Mar 2022   Prob (F-statistic):           1.81e-23\n",
      "Time:                        18:41:48   Log-Likelihood:                -555.54\n",
      "No. Observations:                1989   AIC:                             1115.\n",
      "Df Residuals:                    1987   BIC:                             1126.\n",
      "Df Model:                           1                                         \n",
      "Covariance Type:            nonrobust                                         \n",
      "==============================================================================\n",
      "                 coef    std err          t      P>|t|      [0.025      0.975]\n",
      "------------------------------------------------------------------------------\n",
      "Intercept      0.7078      0.018     38.806      0.000       0.672       0.744\n",
      "white          0.2006      0.020     10.111      0.000       0.162       0.240\n",
      "==============================================================================\n",
      "Omnibus:                      801.085   Durbin-Watson:                   2.002\n",
      "Prob(Omnibus):                  0.000   Jarque-Bera (JB):             2394.523\n",
      "Skew:                          -2.161   Prob(JB):                         0.00\n",
      "Kurtosis:                       6.197   Cond. No.                         4.90\n",
      "==============================================================================\n",
      "\n",
      "Notes:\n",
      "[1] Standard Errors assume that the covariance matrix of the errors is correctly specified.\n",
      "\n"
     ]
    }
   ],
   "source": [
    "loan = woo.dataWoo('LOANAPP')\n",
    "reg = smf.ols(formula='approve ~ white', data=loan)\n",
    "results = reg.fit()\n",
    "print(f'results.summary(): \\n{results.summary()}\\n')"
   ]
  },
  {
   "cell_type": "code",
   "execution_count": 127,
   "id": "9cb4acbc",
   "metadata": {},
   "outputs": [],
   "source": [
    "# (ii)\n",
    "# the coefficient on white means that a white individual is 20.06% more likely\n",
    "# to get loan approval than someone from a minority group.\n",
    "\n",
    "# it is significant because the p-value is less than .05.\n",
    "\n",
    "# practically, this is extremely large because that implies a significant number\n",
    "# of nonwhite peoplep will get their loan applications rejected simply based on the \n",
    "# color of their skin. "
   ]
  },
  {
   "cell_type": "code",
   "execution_count": 129,
   "id": "b644963c",
   "metadata": {},
   "outputs": [
    {
     "name": "stdout",
     "output_type": "stream",
     "text": [
      "results.summary(): \n",
      "                            OLS Regression Results                            \n",
      "==============================================================================\n",
      "Dep. Variable:                approve   R-squared:                       0.166\n",
      "Model:                            OLS   Adj. R-squared:                  0.159\n",
      "Method:                 Least Squares   F-statistic:                     25.86\n",
      "Date:                Tue, 08 Mar 2022   Prob (F-statistic):           1.84e-66\n",
      "Time:                        18:48:04   Log-Likelihood:                -429.26\n",
      "No. Observations:                1971   AIC:                             890.5\n",
      "Df Residuals:                    1955   BIC:                             979.9\n",
      "Df Model:                          15                                         \n",
      "Covariance Type:            nonrobust                                         \n",
      "==============================================================================\n",
      "                 coef    std err          t      P>|t|      [0.025      0.975]\n",
      "------------------------------------------------------------------------------\n",
      "Intercept      0.9367      0.053     17.763      0.000       0.833       1.040\n",
      "white          0.1288      0.020      6.529      0.000       0.090       0.168\n",
      "hrat           0.0018      0.001      1.451      0.147      -0.001       0.004\n",
      "obrat         -0.0054      0.001     -4.930      0.000      -0.008      -0.003\n",
      "loanprc       -0.1473      0.038     -3.926      0.000      -0.221      -0.074\n",
      "unem          -0.0073      0.003     -2.282      0.023      -0.014      -0.001\n",
      "male          -0.0041      0.019     -0.220      0.826      -0.041       0.033\n",
      "married        0.0458      0.016      2.810      0.005       0.014       0.078\n",
      "dep           -0.0068      0.007     -1.019      0.308      -0.020       0.006\n",
      "sch            0.0018      0.017      0.105      0.916      -0.031       0.034\n",
      "cosign         0.0098      0.041      0.238      0.812      -0.071       0.090\n",
      "chist          0.1330      0.019      6.906      0.000       0.095       0.171\n",
      "pubrec        -0.2419      0.028     -8.571      0.000      -0.297      -0.187\n",
      "mortlat1      -0.0573      0.050     -1.145      0.252      -0.155       0.041\n",
      "mortlat2      -0.1137      0.067     -1.698      0.090      -0.245       0.018\n",
      "vr            -0.0314      0.014     -2.241      0.025      -0.059      -0.004\n",
      "==============================================================================\n",
      "Omnibus:                      685.691   Durbin-Watson:                   2.001\n",
      "Prob(Omnibus):                  0.000   Jarque-Bera (JB):             1902.139\n",
      "Skew:                          -1.855   Prob(JB):                         0.00\n",
      "Kurtosis:                       6.066   Cond. No.                         417.\n",
      "==============================================================================\n",
      "\n",
      "Notes:\n",
      "[1] Standard Errors assume that the covariance matrix of the errors is correctly specified.\n",
      "\n"
     ]
    }
   ],
   "source": [
    "reg = smf.ols(formula='approve ~ white + hrat + obrat + loanprc + unem + \\\n",
    "              male + married + dep + sch + cosign + chist + pubrec + mortlat1 + \\\n",
    "              mortlat2 + vr', data=loan)\n",
    "results = reg.fit()\n",
    "print(f'results.summary(): \\n{results.summary()}\\n')"
   ]
  },
  {
   "cell_type": "code",
   "execution_count": 130,
   "id": "34271c6a",
   "metadata": {},
   "outputs": [],
   "source": [
    "# (iii) \n",
    "# the coefficient on white decreases to .1288 meaning a white person is \n",
    "# 12.88% more likely to get approved for a loan than someone in a minority\n",
    "# group, so yes there is still evidence of discrimination against nonwhites."
   ]
  },
  {
   "cell_type": "code",
   "execution_count": 150,
   "id": "1508c6be",
   "metadata": {},
   "outputs": [
    {
     "name": "stdout",
     "output_type": "stream",
     "text": [
      "results.summary(): \n",
      "                            OLS Regression Results                            \n",
      "==============================================================================\n",
      "Dep. Variable:                approve   R-squared:                       0.155\n",
      "Model:                            OLS   Adj. R-squared:                  0.149\n",
      "Method:                 Least Squares   F-statistic:                     25.67\n",
      "Date:                Tue, 08 Mar 2022   Prob (F-statistic):           4.12e-62\n",
      "Time:                        19:12:08   Log-Likelihood:                -441.43\n",
      "No. Observations:                1971   AIC:                             912.9\n",
      "Df Residuals:                    1956   BIC:                             996.7\n",
      "Df Model:                          14                                         \n",
      "Covariance Type:            nonrobust                                         \n",
      "===============================================================================\n",
      "                  coef    std err          t      P>|t|      [0.025      0.975]\n",
      "-------------------------------------------------------------------------------\n",
      "Intercept       0.0009   5.01e-05     16.971      0.000       0.001       0.001\n",
      "white:obrat     0.0042      0.001      6.802      0.000       0.003       0.005\n",
      "white           0.0001   1.93e-05      6.802      0.000    9.36e-05       0.000\n",
      "hrat           -0.0021      0.001     -2.194      0.028      -0.004      -0.000\n",
      "obrat           0.0272      0.002     16.971      0.000       0.024       0.030\n",
      "loanprc        -0.1702      0.037     -4.545      0.000      -0.244      -0.097\n",
      "unem           -0.0072      0.003     -2.242      0.025      -0.014      -0.001\n",
      "male           -0.0080      0.019     -0.423      0.672      -0.045       0.029\n",
      "married         0.0472      0.016      2.880      0.004       0.015       0.079\n",
      "dep            -0.0074      0.007     -1.101      0.271      -0.021       0.006\n",
      "sch             0.0005      0.017      0.031      0.975      -0.032       0.033\n",
      "cosign         -0.0095      0.041     -0.231      0.817      -0.090       0.071\n",
      "chist           0.1404      0.019      7.269      0.000       0.103       0.178\n",
      "pubrec         -0.2479      0.028     -8.740      0.000      -0.304      -0.192\n",
      "mortlat1       -0.0808      0.050     -1.613      0.107      -0.179       0.017\n",
      "mortlat2       -0.1195      0.067     -1.773      0.076      -0.252       0.013\n",
      "vr             -0.0334      0.014     -2.366      0.018      -0.061      -0.006\n",
      "==============================================================================\n",
      "Omnibus:                      697.459   Durbin-Watson:                   2.010\n",
      "Prob(Omnibus):                  0.000   Jarque-Bera (JB):             1959.599\n",
      "Skew:                          -1.883   Prob(JB):                         0.00\n",
      "Kurtosis:                       6.110   Cond. No.                     4.50e+17\n",
      "==============================================================================\n",
      "\n",
      "Notes:\n",
      "[1] Standard Errors assume that the covariance matrix of the errors is correctly specified.\n",
      "[2] The smallest eigenvalue is 2.38e-29. This might indicate that there are\n",
      "strong multicollinearity problems or that the design matrix is singular.\n",
      "\n"
     ]
    }
   ],
   "source": [
    "reg = smf.ols(formula='approve ~ white:obrat + white + hrat + obrat + loanprc + unem + \\\n",
    "              male + married + dep + sch + cosign + chist + pubrec + mortlat1 + \\\n",
    "              mortlat2 + vr', data=loan)\n",
    "results = reg.fit()\n",
    "print(f'results.summary(): \\n{results.summary()}\\n')"
   ]
  },
  {
   "cell_type": "code",
   "execution_count": 151,
   "id": "ff467b39",
   "metadata": {},
   "outputs": [],
   "source": [
    "# (iv)\n",
    "# the interaction term, white_obrat is significant, but relatively small\n",
    "# at 0.0042."
   ]
  },
  {
   "cell_type": "code",
   "execution_count": 174,
   "id": "068da118",
   "metadata": {},
   "outputs": [
    {
     "name": "stdout",
     "output_type": "stream",
     "text": [
      "CI95: \n",
      "                     0         1\n",
      "Intercept     0.000752  0.000948\n",
      "whiteobrat32  0.002994  0.005420\n",
      "white         0.000094  0.000169\n",
      "hrat         -0.004063 -0.000228\n",
      "obrat         0.024062  0.030350\n",
      "...                ...       ...\n",
      "chist         0.102546  0.178318\n",
      "pubrec       -0.303585 -0.192313\n",
      "mortlat1     -0.179013  0.017415\n",
      "mortlat2     -0.251586  0.012669\n",
      "vr           -0.061052 -0.005711\n",
      "\n",
      "[17 rows x 2 columns]\n",
      "\n"
     ]
    }
   ],
   "source": [
    "CI95 = results.conf_int(0.05) \n",
    "print(f'CI95: \\n{CI95}\\n')\n",
    "\n",
    "# (v) \n",
    "# the interaction coefficient white:obrat is 0.0042.\n",
    "\n",
    "# when multiplied by 32, it equals 0.1344.\n",
    "\n",
    "# therefore, when obrat = 32, being white gives someone a 13.44% higher chance higher \n",
    "# of being approved for a loan."
   ]
  },
  {
   "cell_type": "code",
   "execution_count": null,
   "id": "4acc9e1c",
   "metadata": {},
   "outputs": [],
   "source": [
    "# this is a useful model to evaluate whether or not there is discrimination\n",
    "# in the mortgage market given its comprehensive list of control variables\n",
    "# it accounts for several factors, such as gender and employment status, which \n",
    "# may, in addition to race, affect one's approval rating for loans. \n",
    "\n",
    "# some improvements that could be made would be including household/individual\n",
    "# income or the size of the loan one's applying for. "
   ]
  }
 ],
 "metadata": {
  "kernelspec": {
   "display_name": "Python 3 (ipykernel)",
   "language": "python",
   "name": "python3"
  },
  "language_info": {
   "codemirror_mode": {
    "name": "ipython",
    "version": 3
   },
   "file_extension": ".py",
   "mimetype": "text/x-python",
   "name": "python",
   "nbconvert_exporter": "python",
   "pygments_lexer": "ipython3",
   "version": "3.8.8"
  }
 },
 "nbformat": 4,
 "nbformat_minor": 5
}
